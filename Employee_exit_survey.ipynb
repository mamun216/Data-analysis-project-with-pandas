{
  "nbformat": 4,
  "nbformat_minor": 0,
  "metadata": {
    "colab": {
      "name": "Employee exit survey.ipynb",
      "provenance": [],
      "collapsed_sections": [],
      "authorship_tag": "ABX9TyMwemBQ2lBDZpqnCfxB8jpD",
      "include_colab_link": true
    },
    "kernelspec": {
      "name": "python3",
      "display_name": "Python 3"
    }
  },
  "cells": [
    {
      "cell_type": "markdown",
      "metadata": {
        "id": "view-in-github",
        "colab_type": "text"
      },
      "source": [
        "<a href=\"https://colab.research.google.com/github/mamun216/Data-analysis-project-with-pandas/blob/master/Employee_exit_survey.ipynb\" target=\"_parent\"><img src=\"https://colab.research.google.com/assets/colab-badge.svg\" alt=\"Open In Colab\"/></a>"
      ]
    },
    {
      "cell_type": "markdown",
      "metadata": {
        "id": "2OuGE__RjkG-"
      },
      "source": [
        "# Title : A Guided Project : Clean And Analyze Employee Exit Surveys\r\n",
        "\r\n",
        "## Introduction\r\n",
        "\r\n",
        "In this guided project, we'll work with exit surveys from employees of the Department of Education, Training and Employment (DETE) and the Technical and Further Education (TAFE) institute in Queensland, Australia. \r\n",
        "\r\n",
        "## Objective \r\n",
        "\r\n",
        "In this project, we'll play the role of data analyst and pretend our stakeholders want to know the following:\r\n",
        "\r\n",
        "* Are employees who only worked for the institutes for a short period of time resigning due to some kind of dissatisfaction? What about employees who have been there longer?\r\n",
        "* Are younger employees resigning due to some kind of dissatisfaction? What about older employees?\r\n",
        "\r\n",
        "## Data description\r\n",
        "\r\n",
        "### The preview of a couple columns from dete_survey.csv file:\r\n",
        "* ID : An id is used to identify the participant of the survey\r\n",
        "* SeparationType: The reason why the person's employment ended\r\n",
        "* Cease Date: The year or month the person's employment ended\r\n",
        "* DETE Start Date: The year the person began employment with the DETE\r\n",
        "\r\n",
        "### The preview of columns from tafe_survey.csv file:\r\n",
        "\r\n",
        "* Record ID: An id used to identify the participant of the survey\r\n",
        "* Reason for ceasing employment: The reason why the person's employment ended\r\n",
        "* LengthofServiceOverall. Overall Length of Service at Institute (in years): The length of the person's employment (in years)\r\n",
        "\r\n",
        "Let's start by reading the datasets into pandas and exploring them.\r\n",
        "\r\n",
        "## Import libraries"
      ]
    },
    {
      "cell_type": "code",
      "metadata": {
        "id": "kW1HvWwrhXuv"
      },
      "source": [
        "import numpy as np\r\n",
        "import pandas as pd\r\n",
        "import matplotlib.pyplot as plt\r\n",
        "import seaborn as sns \r\n",
        "%matplotlib inline"
      ],
      "execution_count": 1,
      "outputs": []
    },
    {
      "cell_type": "markdown",
      "metadata": {
        "id": "djPYG2Nuj18y"
      },
      "source": [
        "# Explore the data"
      ]
    },
    {
      "cell_type": "code",
      "metadata": {
        "colab": {
          "base_uri": "https://localhost:8080/",
          "height": 358
        },
        "id": "ngsBzT-uiGpO",
        "outputId": "22475d04-18c6-46a4-9357-92cf19512521"
      },
      "source": [
        "# Read few rows in dete dataframe with csv reader\r\n",
        "dete = pd.read_csv(\"http://opendata.dete.qld.gov.au/human-resources/dete-exit-survey-january-2014.csv\", encoding = \"cp1252\")\r\n",
        "dete.head(3)"
      ],
      "execution_count": 2,
      "outputs": [
        {
          "output_type": "execute_result",
          "data": {
            "text/html": [
              "<div>\n",
              "<style scoped>\n",
              "    .dataframe tbody tr th:only-of-type {\n",
              "        vertical-align: middle;\n",
              "    }\n",
              "\n",
              "    .dataframe tbody tr th {\n",
              "        vertical-align: top;\n",
              "    }\n",
              "\n",
              "    .dataframe thead th {\n",
              "        text-align: right;\n",
              "    }\n",
              "</style>\n",
              "<table border=\"1\" class=\"dataframe\">\n",
              "  <thead>\n",
              "    <tr style=\"text-align: right;\">\n",
              "      <th></th>\n",
              "      <th>ID</th>\n",
              "      <th>SeparationType</th>\n",
              "      <th>Cease Date</th>\n",
              "      <th>DETE Start Date</th>\n",
              "      <th>Role Start Date</th>\n",
              "      <th>Position</th>\n",
              "      <th>Classification</th>\n",
              "      <th>Region</th>\n",
              "      <th>Business Unit</th>\n",
              "      <th>Employment Status</th>\n",
              "      <th>Career move to public sector</th>\n",
              "      <th>Career move to private sector</th>\n",
              "      <th>Interpersonal conflicts</th>\n",
              "      <th>Job dissatisfaction</th>\n",
              "      <th>Dissatisfaction with the department</th>\n",
              "      <th>Physical work environment</th>\n",
              "      <th>Lack of recognition</th>\n",
              "      <th>Lack of job security</th>\n",
              "      <th>Work location</th>\n",
              "      <th>Employment conditions</th>\n",
              "      <th>Maternity/family</th>\n",
              "      <th>Relocation</th>\n",
              "      <th>Study/Travel</th>\n",
              "      <th>Ill Health</th>\n",
              "      <th>Traumatic incident</th>\n",
              "      <th>Work life balance</th>\n",
              "      <th>Workload</th>\n",
              "      <th>None of the above</th>\n",
              "      <th>Professional Development</th>\n",
              "      <th>Opportunities for promotion</th>\n",
              "      <th>Staff morale</th>\n",
              "      <th>Workplace issue</th>\n",
              "      <th>Physical environment</th>\n",
              "      <th>Worklife balance</th>\n",
              "      <th>Stress and pressure support</th>\n",
              "      <th>Performance of supervisor</th>\n",
              "      <th>Peer support</th>\n",
              "      <th>Initiative</th>\n",
              "      <th>Skills</th>\n",
              "      <th>Coach</th>\n",
              "      <th>Career Aspirations</th>\n",
              "      <th>Feedback</th>\n",
              "      <th>Further PD</th>\n",
              "      <th>Communication</th>\n",
              "      <th>My say</th>\n",
              "      <th>Information</th>\n",
              "      <th>Kept informed</th>\n",
              "      <th>Wellness programs</th>\n",
              "      <th>Health &amp; Safety</th>\n",
              "      <th>Gender</th>\n",
              "      <th>Age</th>\n",
              "      <th>Aboriginal</th>\n",
              "      <th>Torres Strait</th>\n",
              "      <th>South Sea</th>\n",
              "      <th>Disability</th>\n",
              "      <th>NESB</th>\n",
              "    </tr>\n",
              "  </thead>\n",
              "  <tbody>\n",
              "    <tr>\n",
              "      <th>0</th>\n",
              "      <td>1</td>\n",
              "      <td>Ill Health Retirement</td>\n",
              "      <td>08/2012</td>\n",
              "      <td>1984</td>\n",
              "      <td>2004</td>\n",
              "      <td>Public Servant</td>\n",
              "      <td>A01-A04</td>\n",
              "      <td>Central Office</td>\n",
              "      <td>Corporate Strategy and Peformance</td>\n",
              "      <td>Permanent Full-time</td>\n",
              "      <td>True</td>\n",
              "      <td>False</td>\n",
              "      <td>False</td>\n",
              "      <td>True</td>\n",
              "      <td>False</td>\n",
              "      <td>False</td>\n",
              "      <td>True</td>\n",
              "      <td>False</td>\n",
              "      <td>False</td>\n",
              "      <td>False</td>\n",
              "      <td>False</td>\n",
              "      <td>False</td>\n",
              "      <td>False</td>\n",
              "      <td>False</td>\n",
              "      <td>False</td>\n",
              "      <td>False</td>\n",
              "      <td>False</td>\n",
              "      <td>True</td>\n",
              "      <td>A</td>\n",
              "      <td>A</td>\n",
              "      <td>N</td>\n",
              "      <td>N</td>\n",
              "      <td>N</td>\n",
              "      <td>A</td>\n",
              "      <td>A</td>\n",
              "      <td>A</td>\n",
              "      <td>A</td>\n",
              "      <td>N</td>\n",
              "      <td>N</td>\n",
              "      <td>N</td>\n",
              "      <td>A</td>\n",
              "      <td>A</td>\n",
              "      <td>A</td>\n",
              "      <td>N</td>\n",
              "      <td>A</td>\n",
              "      <td>A</td>\n",
              "      <td>N</td>\n",
              "      <td>N</td>\n",
              "      <td>N</td>\n",
              "      <td>Male</td>\n",
              "      <td>56-60</td>\n",
              "      <td>NaN</td>\n",
              "      <td>NaN</td>\n",
              "      <td>NaN</td>\n",
              "      <td>NaN</td>\n",
              "      <td>Yes</td>\n",
              "    </tr>\n",
              "    <tr>\n",
              "      <th>1</th>\n",
              "      <td>2</td>\n",
              "      <td>Voluntary Early Retirement (VER)</td>\n",
              "      <td>08/2012</td>\n",
              "      <td>Not Stated</td>\n",
              "      <td>Not Stated</td>\n",
              "      <td>Public Servant</td>\n",
              "      <td>AO5-AO7</td>\n",
              "      <td>Central Office</td>\n",
              "      <td>Corporate Strategy and Peformance</td>\n",
              "      <td>Permanent Full-time</td>\n",
              "      <td>False</td>\n",
              "      <td>False</td>\n",
              "      <td>False</td>\n",
              "      <td>False</td>\n",
              "      <td>False</td>\n",
              "      <td>False</td>\n",
              "      <td>False</td>\n",
              "      <td>False</td>\n",
              "      <td>False</td>\n",
              "      <td>False</td>\n",
              "      <td>False</td>\n",
              "      <td>False</td>\n",
              "      <td>False</td>\n",
              "      <td>False</td>\n",
              "      <td>False</td>\n",
              "      <td>False</td>\n",
              "      <td>False</td>\n",
              "      <td>False</td>\n",
              "      <td>A</td>\n",
              "      <td>A</td>\n",
              "      <td>N</td>\n",
              "      <td>N</td>\n",
              "      <td>N</td>\n",
              "      <td>N</td>\n",
              "      <td>A</td>\n",
              "      <td>A</td>\n",
              "      <td>A</td>\n",
              "      <td>N</td>\n",
              "      <td>N</td>\n",
              "      <td>N</td>\n",
              "      <td>A</td>\n",
              "      <td>A</td>\n",
              "      <td>A</td>\n",
              "      <td>N</td>\n",
              "      <td>A</td>\n",
              "      <td>A</td>\n",
              "      <td>N</td>\n",
              "      <td>N</td>\n",
              "      <td>N</td>\n",
              "      <td>Male</td>\n",
              "      <td>56-60</td>\n",
              "      <td>NaN</td>\n",
              "      <td>NaN</td>\n",
              "      <td>NaN</td>\n",
              "      <td>NaN</td>\n",
              "      <td>NaN</td>\n",
              "    </tr>\n",
              "    <tr>\n",
              "      <th>2</th>\n",
              "      <td>3</td>\n",
              "      <td>Voluntary Early Retirement (VER)</td>\n",
              "      <td>05/2012</td>\n",
              "      <td>2011</td>\n",
              "      <td>2011</td>\n",
              "      <td>Schools Officer</td>\n",
              "      <td>NaN</td>\n",
              "      <td>Central Office</td>\n",
              "      <td>Education Queensland</td>\n",
              "      <td>Permanent Full-time</td>\n",
              "      <td>False</td>\n",
              "      <td>False</td>\n",
              "      <td>False</td>\n",
              "      <td>False</td>\n",
              "      <td>False</td>\n",
              "      <td>False</td>\n",
              "      <td>False</td>\n",
              "      <td>False</td>\n",
              "      <td>False</td>\n",
              "      <td>False</td>\n",
              "      <td>False</td>\n",
              "      <td>False</td>\n",
              "      <td>False</td>\n",
              "      <td>False</td>\n",
              "      <td>False</td>\n",
              "      <td>False</td>\n",
              "      <td>False</td>\n",
              "      <td>True</td>\n",
              "      <td>N</td>\n",
              "      <td>N</td>\n",
              "      <td>N</td>\n",
              "      <td>N</td>\n",
              "      <td>N</td>\n",
              "      <td>N</td>\n",
              "      <td>N</td>\n",
              "      <td>N</td>\n",
              "      <td>N</td>\n",
              "      <td>N</td>\n",
              "      <td>N</td>\n",
              "      <td>N</td>\n",
              "      <td>N</td>\n",
              "      <td>N</td>\n",
              "      <td>N</td>\n",
              "      <td>A</td>\n",
              "      <td>A</td>\n",
              "      <td>N</td>\n",
              "      <td>N</td>\n",
              "      <td>N</td>\n",
              "      <td>N</td>\n",
              "      <td>Male</td>\n",
              "      <td>61 or older</td>\n",
              "      <td>NaN</td>\n",
              "      <td>NaN</td>\n",
              "      <td>NaN</td>\n",
              "      <td>NaN</td>\n",
              "      <td>NaN</td>\n",
              "    </tr>\n",
              "  </tbody>\n",
              "</table>\n",
              "</div>"
            ],
            "text/plain": [
              "   ID                    SeparationType Cease Date  ... South Sea Disability NESB\n",
              "0   1             Ill Health Retirement    08/2012  ...       NaN        NaN  Yes\n",
              "1   2  Voluntary Early Retirement (VER)    08/2012  ...       NaN        NaN  NaN\n",
              "2   3  Voluntary Early Retirement (VER)    05/2012  ...       NaN        NaN  NaN\n",
              "\n",
              "[3 rows x 56 columns]"
            ]
          },
          "metadata": {
            "tags": []
          },
          "execution_count": 2
        }
      ]
    },
    {
      "cell_type": "code",
      "metadata": {
        "colab": {
          "base_uri": "https://localhost:8080/"
        },
        "id": "qqzWiQhVjMSv",
        "outputId": "c2636981-4389-4374-8ade-f28a8aea45a8"
      },
      "source": [
        "#first we print the shape to understand the magnitude of null values. \r\n",
        "shape = dete.shape\r\n",
        "print(shape)\r\n",
        "dete.info()"
      ],
      "execution_count": 3,
      "outputs": [
        {
          "output_type": "stream",
          "text": [
            "(822, 56)\n",
            "<class 'pandas.core.frame.DataFrame'>\n",
            "RangeIndex: 822 entries, 0 to 821\n",
            "Data columns (total 56 columns):\n",
            " #   Column                               Non-Null Count  Dtype \n",
            "---  ------                               --------------  ----- \n",
            " 0   ID                                   822 non-null    int64 \n",
            " 1   SeparationType                       822 non-null    object\n",
            " 2   Cease Date                           822 non-null    object\n",
            " 3   DETE Start Date                      822 non-null    object\n",
            " 4   Role Start Date                      822 non-null    object\n",
            " 5   Position                             817 non-null    object\n",
            " 6   Classification                       455 non-null    object\n",
            " 7   Region                               822 non-null    object\n",
            " 8   Business Unit                        126 non-null    object\n",
            " 9   Employment Status                    817 non-null    object\n",
            " 10  Career move to public sector         822 non-null    bool  \n",
            " 11  Career move to private sector        822 non-null    bool  \n",
            " 12  Interpersonal conflicts              822 non-null    bool  \n",
            " 13  Job dissatisfaction                  822 non-null    bool  \n",
            " 14  Dissatisfaction with the department  822 non-null    bool  \n",
            " 15  Physical work environment            822 non-null    bool  \n",
            " 16  Lack of recognition                  822 non-null    bool  \n",
            " 17  Lack of job security                 822 non-null    bool  \n",
            " 18  Work location                        822 non-null    bool  \n",
            " 19  Employment conditions                822 non-null    bool  \n",
            " 20  Maternity/family                     822 non-null    bool  \n",
            " 21  Relocation                           822 non-null    bool  \n",
            " 22  Study/Travel                         822 non-null    bool  \n",
            " 23  Ill Health                           822 non-null    bool  \n",
            " 24  Traumatic incident                   822 non-null    bool  \n",
            " 25  Work life balance                    822 non-null    bool  \n",
            " 26  Workload                             822 non-null    bool  \n",
            " 27  None of the above                    822 non-null    bool  \n",
            " 28  Professional Development             808 non-null    object\n",
            " 29  Opportunities for promotion          735 non-null    object\n",
            " 30  Staff morale                         816 non-null    object\n",
            " 31  Workplace issue                      788 non-null    object\n",
            " 32  Physical environment                 817 non-null    object\n",
            " 33  Worklife balance                     815 non-null    object\n",
            " 34  Stress and pressure support          810 non-null    object\n",
            " 35  Performance of supervisor            813 non-null    object\n",
            " 36  Peer support                         812 non-null    object\n",
            " 37  Initiative                           813 non-null    object\n",
            " 38  Skills                               811 non-null    object\n",
            " 39  Coach                                767 non-null    object\n",
            " 40  Career Aspirations                   746 non-null    object\n",
            " 41  Feedback                             792 non-null    object\n",
            " 42  Further PD                           768 non-null    object\n",
            " 43  Communication                        814 non-null    object\n",
            " 44  My say                               812 non-null    object\n",
            " 45  Information                          816 non-null    object\n",
            " 46  Kept informed                        813 non-null    object\n",
            " 47  Wellness programs                    766 non-null    object\n",
            " 48  Health & Safety                      793 non-null    object\n",
            " 49  Gender                               798 non-null    object\n",
            " 50  Age                                  811 non-null    object\n",
            " 51  Aboriginal                           16 non-null     object\n",
            " 52  Torres Strait                        3 non-null      object\n",
            " 53  South Sea                            7 non-null      object\n",
            " 54  Disability                           23 non-null     object\n",
            " 55  NESB                                 32 non-null     object\n",
            "dtypes: bool(18), int64(1), object(37)\n",
            "memory usage: 258.6+ KB\n"
          ],
          "name": "stdout"
        }
      ]
    },
    {
      "cell_type": "code",
      "metadata": {
        "colab": {
          "base_uri": "https://localhost:8080/",
          "height": 444
        },
        "id": "YwKoPuCdkeBX",
        "outputId": "997898cc-a88c-4f0b-ba2f-58e124fd64c6"
      },
      "source": [
        "#we will investigate the types of separation and their frequency\r\n",
        "separations = dete['SeparationType'].value_counts()\r\n",
        "separations.plot.bar();"
      ],
      "execution_count": 4,
      "outputs": [
        {
          "output_type": "display_data",
          "data": {
            "image/png": "[encoded data removed]",
            "text/plain": [
              "<Figure size 432x288 with 1 Axes>"
            ]
          },
          "metadata": {
            "tags": [],
            "needs_background": "light"
          }
        }
      ]
    },
    {
      "cell_type": "code",
      "metadata": {
        "colab": {
          "base_uri": "https://localhost:8080/",
          "height": 475
        },
        "id": "VeUoo66Zh9V8",
        "outputId": "bc95dd57-cae1-4c00-f2cc-d14910546495"
      },
      "source": [
        "# Read few rows in tafe dataframe with csv reader \r\n",
        "tafe = pd.read_csv(\"http://opendata.dete.qld.gov.au/human-resources/tafe-employee-exit-survey-access-database-december-2013.csv\", encoding = \"cp1252\")\r\n",
        "tafe.head(3)"
      ],
      "execution_count": 5,
      "outputs": [
        {
          "output_type": "execute_result",
          "data": {
            "text/html": [
              "<div>\n",
              "<style scoped>\n",
              "    .dataframe tbody tr th:only-of-type {\n",
              "        vertical-align: middle;\n",
              "    }\n",
              "\n",
              "    .dataframe tbody tr th {\n",
              "        vertical-align: top;\n",
              "    }\n",
              "\n",
              "    .dataframe thead th {\n",
              "        text-align: right;\n",
              "    }\n",
              "</style>\n",
              "<table border=\"1\" class=\"dataframe\">\n",
              "  <thead>\n",
              "    <tr style=\"text-align: right;\">\n",
              "      <th></th>\n",
              "      <th>Record ID</th>\n",
              "      <th>Institute</th>\n",
              "      <th>WorkArea</th>\n",
              "      <th>CESSATION YEAR</th>\n",
              "      <th>Reason for ceasing employment</th>\n",
              "      <th>Contributing Factors. Career Move - Public Sector</th>\n",
              "      <th>Contributing Factors. Career Move - Private Sector</th>\n",
              "      <th>Contributing Factors. Career Move - Self-employment</th>\n",
              "      <th>Contributing Factors. Ill Health</th>\n",
              "      <th>Contributing Factors. Maternity/Family</th>\n",
              "      <th>Contributing Factors. Dissatisfaction</th>\n",
              "      <th>Contributing Factors. Job Dissatisfaction</th>\n",
              "      <th>Contributing Factors. Interpersonal Conflict</th>\n",
              "      <th>Contributing Factors. Study</th>\n",
              "      <th>Contributing Factors. Travel</th>\n",
              "      <th>Contributing Factors. Other</th>\n",
              "      <th>Contributing Factors. NONE</th>\n",
              "      <th>Main Factor.     Which of these was the main factor for leaving?</th>\n",
              "      <th>InstituteViews. Topic:1. I feel the senior leadership had a clear vision and direction</th>\n",
              "      <th>InstituteViews. Topic:2. I was given access to skills training to help me do my job better</th>\n",
              "      <th>InstituteViews. Topic:3. I was given adequate opportunities for personal development</th>\n",
              "      <th>InstituteViews. Topic:4. I was given adequate opportunities for promotion within %Institute]Q25LBL%</th>\n",
              "      <th>InstituteViews. Topic:5. I felt the salary for the job was right for the responsibilities I had</th>\n",
              "      <th>InstituteViews. Topic:6. The organisation recognised when staff did good work</th>\n",
              "      <th>InstituteViews. Topic:7. Management was generally supportive of me</th>\n",
              "      <th>InstituteViews. Topic:8. Management was generally supportive of my team</th>\n",
              "      <th>InstituteViews. Topic:9. I was kept informed of the changes in the organisation which would affect me</th>\n",
              "      <th>InstituteViews. Topic:10. Staff morale was positive within the Institute</th>\n",
              "      <th>InstituteViews. Topic:11. If I had a workplace issue it was dealt with quickly</th>\n",
              "      <th>InstituteViews. Topic:12. If I had a workplace issue it was dealt with efficiently</th>\n",
              "      <th>InstituteViews. Topic:13. If I had a workplace issue it was dealt with discreetly</th>\n",
              "      <th>WorkUnitViews. Topic:14. I was satisfied with the quality of the management and supervision within my work unit</th>\n",
              "      <th>WorkUnitViews. Topic:15. I worked well with my colleagues</th>\n",
              "      <th>WorkUnitViews. Topic:16. My job was challenging and interesting</th>\n",
              "      <th>WorkUnitViews. Topic:17. I was encouraged to use my initiative in the course of my work</th>\n",
              "      <th>WorkUnitViews. Topic:18. I had sufficient contact with other people in my job</th>\n",
              "      <th>WorkUnitViews. Topic:19. I was given adequate support and co-operation by my peers to enable me to do my job</th>\n",
              "      <th>WorkUnitViews. Topic:20. I was able to use the full range of my skills in my job</th>\n",
              "      <th>WorkUnitViews. Topic:21. I was able to use the full range of my abilities in my job. ; Category:Level of Agreement; Question:YOUR VIEWS ABOUT YOUR WORK UNIT]</th>\n",
              "      <th>WorkUnitViews. Topic:22. I was able to use the full range of my knowledge in my job</th>\n",
              "      <th>WorkUnitViews. Topic:23. My job provided sufficient variety</th>\n",
              "      <th>WorkUnitViews. Topic:24. I was able to cope with the level of stress and pressure in my job</th>\n",
              "      <th>WorkUnitViews. Topic:25. My job allowed me to balance the demands of work and family to my satisfaction</th>\n",
              "      <th>WorkUnitViews. Topic:26. My supervisor gave me adequate personal recognition and feedback on my performance</th>\n",
              "      <th>WorkUnitViews. Topic:27. My working environment was satisfactory e.g. sufficient space, good lighting, suitable seating and working area</th>\n",
              "      <th>WorkUnitViews. Topic:28. I was given the opportunity to mentor and coach others in order for me to pass on my skills and knowledge prior to my cessation date</th>\n",
              "      <th>WorkUnitViews. Topic:29. There was adequate communication between staff in my unit</th>\n",
              "      <th>WorkUnitViews. Topic:30. Staff morale was positive within my work unit</th>\n",
              "      <th>Induction. Did you undertake Workplace Induction?</th>\n",
              "      <th>InductionInfo. Topic:Did you undertake a Corporate Induction?</th>\n",
              "      <th>InductionInfo. Topic:Did you undertake a Institute Induction?</th>\n",
              "      <th>InductionInfo. Topic: Did you undertake Team Induction?</th>\n",
              "      <th>InductionInfo. Face to Face Topic:Did you undertake a Corporate Induction; Category:How it was conducted?</th>\n",
              "      <th>InductionInfo. On-line Topic:Did you undertake a Corporate Induction; Category:How it was conducted?</th>\n",
              "      <th>InductionInfo. Induction Manual Topic:Did you undertake a Corporate Induction?</th>\n",
              "      <th>InductionInfo. Face to Face Topic:Did you undertake a Institute Induction?</th>\n",
              "      <th>InductionInfo. On-line Topic:Did you undertake a Institute Induction?</th>\n",
              "      <th>InductionInfo. Induction Manual Topic:Did you undertake a Institute Induction?</th>\n",
              "      <th>InductionInfo. Face to Face Topic: Did you undertake Team Induction; Category?</th>\n",
              "      <th>InductionInfo. On-line Topic: Did you undertake Team Induction?process you undertook and how it was conducted.]</th>\n",
              "      <th>InductionInfo. Induction Manual Topic: Did you undertake Team Induction?</th>\n",
              "      <th>Workplace. Topic:Did you and your Manager develop a Performance and Professional Development Plan (PPDP)?</th>\n",
              "      <th>Workplace. Topic:Does your workplace promote a work culture free from all forms of unlawful discrimination?</th>\n",
              "      <th>Workplace. Topic:Does your workplace promote and practice the principles of employment equity?</th>\n",
              "      <th>Workplace. Topic:Does your workplace value the diversity of its employees?</th>\n",
              "      <th>Workplace. Topic:Would you recommend the Institute as an employer to others?</th>\n",
              "      <th>Gender.     What is your Gender?</th>\n",
              "      <th>CurrentAge.     Current Age</th>\n",
              "      <th>Employment Type.     Employment Type</th>\n",
              "      <th>Classification.     Classification</th>\n",
              "      <th>LengthofServiceOverall. Overall Length of Service at Institute (in years)</th>\n",
              "      <th>LengthofServiceCurrent. Length of Service at current workplace (in years)</th>\n",
              "    </tr>\n",
              "  </thead>\n",
              "  <tbody>\n",
              "    <tr>\n",
              "      <th>0</th>\n",
              "      <td>634133009996094000</td>\n",
              "      <td>Southern Queensland Institute of TAFE</td>\n",
              "      <td>Non-Delivery (corporate)</td>\n",
              "      <td>2010.0</td>\n",
              "      <td>Contract Expired</td>\n",
              "      <td>NaN</td>\n",
              "      <td>NaN</td>\n",
              "      <td>NaN</td>\n",
              "      <td>NaN</td>\n",
              "      <td>NaN</td>\n",
              "      <td>NaN</td>\n",
              "      <td>NaN</td>\n",
              "      <td>NaN</td>\n",
              "      <td>NaN</td>\n",
              "      <td>NaN</td>\n",
              "      <td>NaN</td>\n",
              "      <td>NaN</td>\n",
              "      <td>NaN</td>\n",
              "      <td>Agree</td>\n",
              "      <td>Agree</td>\n",
              "      <td>Agree</td>\n",
              "      <td>Neutral</td>\n",
              "      <td>Agree</td>\n",
              "      <td>Agree</td>\n",
              "      <td>Agree</td>\n",
              "      <td>Agree</td>\n",
              "      <td>Agree</td>\n",
              "      <td>Agree</td>\n",
              "      <td>Agree</td>\n",
              "      <td>Agree</td>\n",
              "      <td>Agree</td>\n",
              "      <td>Agree</td>\n",
              "      <td>Agree</td>\n",
              "      <td>Agree</td>\n",
              "      <td>Strongly Agree</td>\n",
              "      <td>Agree</td>\n",
              "      <td>Agree</td>\n",
              "      <td>Agree</td>\n",
              "      <td>Agree</td>\n",
              "      <td>Agree</td>\n",
              "      <td>Agree</td>\n",
              "      <td>Agree</td>\n",
              "      <td>Agree</td>\n",
              "      <td>Agree</td>\n",
              "      <td>Agree</td>\n",
              "      <td>Neutral</td>\n",
              "      <td>Agree</td>\n",
              "      <td>Agree</td>\n",
              "      <td>Yes</td>\n",
              "      <td>Yes</td>\n",
              "      <td>Yes</td>\n",
              "      <td>Yes</td>\n",
              "      <td>Face to Face</td>\n",
              "      <td>-</td>\n",
              "      <td>-</td>\n",
              "      <td>Face to Face</td>\n",
              "      <td>-</td>\n",
              "      <td>-</td>\n",
              "      <td>Face to Face</td>\n",
              "      <td>-</td>\n",
              "      <td>-</td>\n",
              "      <td>Yes</td>\n",
              "      <td>Yes</td>\n",
              "      <td>Yes</td>\n",
              "      <td>Yes</td>\n",
              "      <td>Yes</td>\n",
              "      <td>Female</td>\n",
              "      <td>26 – 30</td>\n",
              "      <td>Temporary Full-time</td>\n",
              "      <td>Administration (AO)</td>\n",
              "      <td>1-2</td>\n",
              "      <td>1-2</td>\n",
              "    </tr>\n",
              "    <tr>\n",
              "      <th>1</th>\n",
              "      <td>634133654064531000</td>\n",
              "      <td>Mount Isa Institute of TAFE</td>\n",
              "      <td>Non-Delivery (corporate)</td>\n",
              "      <td>2010.0</td>\n",
              "      <td>Retirement</td>\n",
              "      <td>-</td>\n",
              "      <td>-</td>\n",
              "      <td>-</td>\n",
              "      <td>-</td>\n",
              "      <td>-</td>\n",
              "      <td>-</td>\n",
              "      <td>-</td>\n",
              "      <td>-</td>\n",
              "      <td>-</td>\n",
              "      <td>Travel</td>\n",
              "      <td>-</td>\n",
              "      <td>-</td>\n",
              "      <td>NaN</td>\n",
              "      <td>Agree</td>\n",
              "      <td>Agree</td>\n",
              "      <td>Agree</td>\n",
              "      <td>Agree</td>\n",
              "      <td>Agree</td>\n",
              "      <td>Strongly Agree</td>\n",
              "      <td>Strongly Agree</td>\n",
              "      <td>Agree</td>\n",
              "      <td>Strongly Agree</td>\n",
              "      <td>Agree</td>\n",
              "      <td>Agree</td>\n",
              "      <td>Agree</td>\n",
              "      <td>Disagree</td>\n",
              "      <td>Strongly Agree</td>\n",
              "      <td>Strongly Agree</td>\n",
              "      <td>Strongly Agree</td>\n",
              "      <td>Agree</td>\n",
              "      <td>Agree</td>\n",
              "      <td>Agree</td>\n",
              "      <td>Strongly Agree</td>\n",
              "      <td>Agree</td>\n",
              "      <td>Agree</td>\n",
              "      <td>Agree</td>\n",
              "      <td>Strongly Agree</td>\n",
              "      <td>Agree</td>\n",
              "      <td>Strongly Agree</td>\n",
              "      <td>Strongly Agree</td>\n",
              "      <td>Agree</td>\n",
              "      <td>Agree</td>\n",
              "      <td>Strongly Agree</td>\n",
              "      <td>No</td>\n",
              "      <td>NaN</td>\n",
              "      <td>NaN</td>\n",
              "      <td>NaN</td>\n",
              "      <td>NaN</td>\n",
              "      <td>NaN</td>\n",
              "      <td>NaN</td>\n",
              "      <td>NaN</td>\n",
              "      <td>NaN</td>\n",
              "      <td>NaN</td>\n",
              "      <td>NaN</td>\n",
              "      <td>NaN</td>\n",
              "      <td>NaN</td>\n",
              "      <td>Yes</td>\n",
              "      <td>Yes</td>\n",
              "      <td>Yes</td>\n",
              "      <td>Yes</td>\n",
              "      <td>Yes</td>\n",
              "      <td>NaN</td>\n",
              "      <td>NaN</td>\n",
              "      <td>NaN</td>\n",
              "      <td>NaN</td>\n",
              "      <td>NaN</td>\n",
              "      <td>NaN</td>\n",
              "    </tr>\n",
              "    <tr>\n",
              "      <th>2</th>\n",
              "      <td>634138845606563000</td>\n",
              "      <td>Mount Isa Institute of TAFE</td>\n",
              "      <td>Delivery (teaching)</td>\n",
              "      <td>2010.0</td>\n",
              "      <td>Retirement</td>\n",
              "      <td>-</td>\n",
              "      <td>-</td>\n",
              "      <td>-</td>\n",
              "      <td>-</td>\n",
              "      <td>-</td>\n",
              "      <td>-</td>\n",
              "      <td>-</td>\n",
              "      <td>-</td>\n",
              "      <td>-</td>\n",
              "      <td>-</td>\n",
              "      <td>-</td>\n",
              "      <td>NONE</td>\n",
              "      <td>NaN</td>\n",
              "      <td>Agree</td>\n",
              "      <td>Agree</td>\n",
              "      <td>Agree</td>\n",
              "      <td>Agree</td>\n",
              "      <td>Agree</td>\n",
              "      <td>Agree</td>\n",
              "      <td>Strongly Agree</td>\n",
              "      <td>Agree</td>\n",
              "      <td>Agree</td>\n",
              "      <td>Agree</td>\n",
              "      <td>Agree</td>\n",
              "      <td>Neutral</td>\n",
              "      <td>Neutral</td>\n",
              "      <td>Strongly Agree</td>\n",
              "      <td>Strongly Agree</td>\n",
              "      <td>Agree</td>\n",
              "      <td>Agree</td>\n",
              "      <td>Agree</td>\n",
              "      <td>Agree</td>\n",
              "      <td>Agree</td>\n",
              "      <td>Agree</td>\n",
              "      <td>Agree</td>\n",
              "      <td>Agree</td>\n",
              "      <td>Agree</td>\n",
              "      <td>Agree</td>\n",
              "      <td>Agree</td>\n",
              "      <td>Agree</td>\n",
              "      <td>Agree</td>\n",
              "      <td>Agree</td>\n",
              "      <td>Agree</td>\n",
              "      <td>No</td>\n",
              "      <td>NaN</td>\n",
              "      <td>NaN</td>\n",
              "      <td>NaN</td>\n",
              "      <td>NaN</td>\n",
              "      <td>NaN</td>\n",
              "      <td>NaN</td>\n",
              "      <td>NaN</td>\n",
              "      <td>NaN</td>\n",
              "      <td>NaN</td>\n",
              "      <td>NaN</td>\n",
              "      <td>NaN</td>\n",
              "      <td>NaN</td>\n",
              "      <td>Yes</td>\n",
              "      <td>Yes</td>\n",
              "      <td>Yes</td>\n",
              "      <td>Yes</td>\n",
              "      <td>Yes</td>\n",
              "      <td>NaN</td>\n",
              "      <td>NaN</td>\n",
              "      <td>NaN</td>\n",
              "      <td>NaN</td>\n",
              "      <td>NaN</td>\n",
              "      <td>NaN</td>\n",
              "    </tr>\n",
              "  </tbody>\n",
              "</table>\n",
              "</div>"
            ],
            "text/plain": [
              "            Record ID  ... LengthofServiceCurrent. Length of Service at current workplace (in years)\n",
              "0  634133009996094000  ...                                                1-2                       \n",
              "1  634133654064531000  ...                                                NaN                       \n",
              "2  634138845606563000  ...                                                NaN                       \n",
              "\n",
              "[3 rows x 72 columns]"
            ]
          },
          "metadata": {
            "tags": []
          },
          "execution_count": 5
        }
      ]
    },
    {
      "cell_type": "code",
      "metadata": {
        "colab": {
          "base_uri": "https://localhost:8080/"
        },
        "id": "Cnq10cGpkqb7",
        "outputId": "1829623c-9730-421a-a9cf-0acae6ccd8a9"
      },
      "source": [
        "#first we print the shape to understand the magnitude of null values. \r\n",
        "shape_tafe = tafe.shape\r\n",
        "print(shape_tafe)\r\n",
        "tafe.info()"
      ],
      "execution_count": 6,
      "outputs": [
        {
          "output_type": "stream",
          "text": [
            "(702, 72)\n",
            "<class 'pandas.core.frame.DataFrame'>\n",
            "RangeIndex: 702 entries, 0 to 701\n",
            "Data columns (total 72 columns):\n",
            " #   Column                                                                                                                                                         Non-Null Count  Dtype  \n",
            "---  ------                                                                                                                                                         --------------  -----  \n",
            " 0   Record ID                                                                                                                                                      702 non-null    int64  \n",
            " 1   Institute                                                                                                                                                      702 non-null    object \n",
            " 2   WorkArea                                                                                                                                                       702 non-null    object \n",
            " 3   CESSATION YEAR                                                                                                                                                 695 non-null    float64\n",
            " 4   Reason for ceasing employment                                                                                                                                  701 non-null    object \n",
            " 5   Contributing Factors. Career Move - Public Sector                                                                                                              437 non-null    object \n",
            " 6   Contributing Factors. Career Move - Private Sector                                                                                                             437 non-null    object \n",
            " 7   Contributing Factors. Career Move - Self-employment                                                                                                            437 non-null    object \n",
            " 8   Contributing Factors. Ill Health                                                                                                                               437 non-null    object \n",
            " 9   Contributing Factors. Maternity/Family                                                                                                                         437 non-null    object \n",
            " 10  Contributing Factors. Dissatisfaction                                                                                                                          437 non-null    object \n",
            " 11  Contributing Factors. Job Dissatisfaction                                                                                                                      437 non-null    object \n",
            " 12  Contributing Factors. Interpersonal Conflict                                                                                                                   437 non-null    object \n",
            " 13  Contributing Factors. Study                                                                                                                                    437 non-null    object \n",
            " 14  Contributing Factors. Travel                                                                                                                                   437 non-null    object \n",
            " 15  Contributing Factors. Other                                                                                                                                    437 non-null    object \n",
            " 16  Contributing Factors. NONE                                                                                                                                     437 non-null    object \n",
            " 17  Main Factor.     Which of these was the main factor for leaving?                                                                                               113 non-null    object \n",
            " 18  InstituteViews. Topic:1. I feel the senior leadership had a clear vision and direction                                                                         608 non-null    object \n",
            " 19  InstituteViews. Topic:2. I was given access to skills training to help me do my job better                                                                     613 non-null    object \n",
            " 20  InstituteViews. Topic:3. I was given adequate opportunities for personal development                                                                           610 non-null    object \n",
            " 21  InstituteViews. Topic:4. I was given adequate opportunities for promotion within %Institute]Q25LBL%                                                            608 non-null    object \n",
            " 22  InstituteViews. Topic:5. I felt the salary for the job was right for the responsibilities I had                                                                615 non-null    object \n",
            " 23  InstituteViews. Topic:6. The organisation recognised when staff did good work                                                                                  607 non-null    object \n",
            " 24  InstituteViews. Topic:7. Management was generally supportive of me                                                                                             614 non-null    object \n",
            " 25  InstituteViews. Topic:8. Management was generally supportive of my team                                                                                        608 non-null    object \n",
            " 26  InstituteViews. Topic:9. I was kept informed of the changes in the organisation which would affect me                                                          610 non-null    object \n",
            " 27  InstituteViews. Topic:10. Staff morale was positive within the Institute                                                                                       602 non-null    object \n",
            " 28  InstituteViews. Topic:11. If I had a workplace issue it was dealt with quickly                                                                                 601 non-null    object \n",
            " 29  InstituteViews. Topic:12. If I had a workplace issue it was dealt with efficiently                                                                             597 non-null    object \n",
            " 30  InstituteViews. Topic:13. If I had a workplace issue it was dealt with discreetly                                                                              601 non-null    object \n",
            " 31  WorkUnitViews. Topic:14. I was satisfied with the quality of the management and supervision within my work unit                                                609 non-null    object \n",
            " 32  WorkUnitViews. Topic:15. I worked well with my colleagues                                                                                                      605 non-null    object \n",
            " 33  WorkUnitViews. Topic:16. My job was challenging and interesting                                                                                                607 non-null    object \n",
            " 34  WorkUnitViews. Topic:17. I was encouraged to use my initiative in the course of my work                                                                        610 non-null    object \n",
            " 35  WorkUnitViews. Topic:18. I had sufficient contact with other people in my job                                                                                  613 non-null    object \n",
            " 36  WorkUnitViews. Topic:19. I was given adequate support and co-operation by my peers to enable me to do my job                                                   609 non-null    object \n",
            " 37  WorkUnitViews. Topic:20. I was able to use the full range of my skills in my job                                                                               609 non-null    object \n",
            " 38  WorkUnitViews. Topic:21. I was able to use the full range of my abilities in my job. ; Category:Level of Agreement; Question:YOUR VIEWS ABOUT YOUR WORK UNIT]  608 non-null    object \n",
            " 39  WorkUnitViews. Topic:22. I was able to use the full range of my knowledge in my job                                                                            608 non-null    object \n",
            " 40  WorkUnitViews. Topic:23. My job provided sufficient variety                                                                                                    611 non-null    object \n",
            " 41  WorkUnitViews. Topic:24. I was able to cope with the level of stress and pressure in my job                                                                    610 non-null    object \n",
            " 42  WorkUnitViews. Topic:25. My job allowed me to balance the demands of work and family to my satisfaction                                                        611 non-null    object \n",
            " 43  WorkUnitViews. Topic:26. My supervisor gave me adequate personal recognition and feedback on my performance                                                    606 non-null    object \n",
            " 44  WorkUnitViews. Topic:27. My working environment was satisfactory e.g. sufficient space, good lighting, suitable seating and working area                       610 non-null    object \n",
            " 45  WorkUnitViews. Topic:28. I was given the opportunity to mentor and coach others in order for me to pass on my skills and knowledge prior to my cessation date  609 non-null    object \n",
            " 46  WorkUnitViews. Topic:29. There was adequate communication between staff in my unit                                                                             603 non-null    object \n",
            " 47  WorkUnitViews. Topic:30. Staff morale was positive within my work unit                                                                                         606 non-null    object \n",
            " 48  Induction. Did you undertake Workplace Induction?                                                                                                              619 non-null    object \n",
            " 49  InductionInfo. Topic:Did you undertake a Corporate Induction?                                                                                                  432 non-null    object \n",
            " 50  InductionInfo. Topic:Did you undertake a Institute Induction?                                                                                                  483 non-null    object \n",
            " 51  InductionInfo. Topic: Did you undertake Team Induction?                                                                                                        440 non-null    object \n",
            " 52  InductionInfo. Face to Face Topic:Did you undertake a Corporate Induction; Category:How it was conducted?                                                      555 non-null    object \n",
            " 53  InductionInfo. On-line Topic:Did you undertake a Corporate Induction; Category:How it was conducted?                                                           555 non-null    object \n",
            " 54  InductionInfo. Induction Manual Topic:Did you undertake a Corporate Induction?                                                                                 555 non-null    object \n",
            " 55  InductionInfo. Face to Face Topic:Did you undertake a Institute Induction?                                                                                     530 non-null    object \n",
            " 56  InductionInfo. On-line Topic:Did you undertake a Institute Induction?                                                                                          555 non-null    object \n",
            " 57  InductionInfo. Induction Manual Topic:Did you undertake a Institute Induction?                                                                                 553 non-null    object \n",
            " 58  InductionInfo. Face to Face Topic: Did you undertake Team Induction; Category?                                                                                 555 non-null    object \n",
            " 59  InductionInfo. On-line Topic: Did you undertake Team Induction?process you undertook and how it was conducted.]                                                555 non-null    object \n",
            " 60  InductionInfo. Induction Manual Topic: Did you undertake Team Induction?                                                                                       555 non-null    object \n",
            " 61  Workplace. Topic:Did you and your Manager develop a Performance and Professional Development Plan (PPDP)?                                                      608 non-null    object \n",
            " 62  Workplace. Topic:Does your workplace promote a work culture free from all forms of unlawful discrimination?                                                    594 non-null    object \n",
            " 63  Workplace. Topic:Does your workplace promote and practice the principles of employment equity?                                                                 587 non-null    object \n",
            " 64  Workplace. Topic:Does your workplace value the diversity of its employees?                                                                                     586 non-null    object \n",
            " 65  Workplace. Topic:Would you recommend the Institute as an employer to others?                                                                                   581 non-null    object \n",
            " 66  Gender.     What is your Gender?                                                                                                                               596 non-null    object \n",
            " 67  CurrentAge.     Current Age                                                                                                                                    596 non-null    object \n",
            " 68  Employment Type.     Employment Type                                                                                                                           596 non-null    object \n",
            " 69  Classification.     Classification                                                                                                                             596 non-null    object \n",
            " 70  LengthofServiceOverall. Overall Length of Service at Institute (in years)                                                                                      596 non-null    object \n",
            " 71  LengthofServiceCurrent. Length of Service at current workplace (in years)                                                                                      596 non-null    object \n",
            "dtypes: float64(1), int64(1), object(70)\n",
            "memory usage: 395.0+ KB\n"
          ],
          "name": "stdout"
        }
      ]
    },
    {
      "cell_type": "code",
      "metadata": {
        "colab": {
          "base_uri": "https://localhost:8080/",
          "height": 394
        },
        "id": "xjieHTE_lB45",
        "outputId": "74b689aa-23e6-4b9f-f5dd-d20457689c83"
      },
      "source": [
        "#we will investigate the types of separation and their frequency\r\n",
        "separations_tafe = tafe['Reason for ceasing employment'].value_counts()\r\n",
        "separations_tafe.plot.bar();"
      ],
      "execution_count": 7,
      "outputs": [
        {
          "output_type": "display_data",
          "data": {
            "image/png": "[encoded data removed]",
            "text/plain": [
              "<Figure size 432x288 with 1 Axes>"
            ]
          },
          "metadata": {
            "tags": [],
            "needs_background": "light"
          }
        }
      ]
    },
    {
      "cell_type": "code",
      "metadata": {
        "colab": {
          "base_uri": "https://localhost:8080/"
        },
        "id": "hkymmAGg0mhq",
        "outputId": "af3a6247-f1a4-462a-a54d-1d979a3b4460"
      },
      "source": [
        "# Determine the NaN values in DETE\r\n",
        "dete.isnull().sum()"
      ],
      "execution_count": 8,
      "outputs": [
        {
          "output_type": "execute_result",
          "data": {
            "text/plain": [
              "ID                                       0\n",
              "SeparationType                           0\n",
              "Cease Date                               0\n",
              "DETE Start Date                          0\n",
              "Role Start Date                          0\n",
              "Position                                 5\n",
              "Classification                         367\n",
              "Region                                   0\n",
              "Business Unit                          696\n",
              "Employment Status                        5\n",
              "Career move to public sector             0\n",
              "Career move to private sector            0\n",
              "Interpersonal conflicts                  0\n",
              "Job dissatisfaction                      0\n",
              "Dissatisfaction with the department      0\n",
              "Physical work environment                0\n",
              "Lack of recognition                      0\n",
              "Lack of job security                     0\n",
              "Work location                            0\n",
              "Employment conditions                    0\n",
              "Maternity/family                         0\n",
              "Relocation                               0\n",
              "Study/Travel                             0\n",
              "Ill Health                               0\n",
              "Traumatic incident                       0\n",
              "Work life balance                        0\n",
              "Workload                                 0\n",
              "None of the above                        0\n",
              "Professional Development                14\n",
              "Opportunities for promotion             87\n",
              "Staff morale                             6\n",
              "Workplace issue                         34\n",
              "Physical environment                     5\n",
              "Worklife balance                         7\n",
              "Stress and pressure support             12\n",
              "Performance of supervisor                9\n",
              "Peer support                            10\n",
              "Initiative                               9\n",
              "Skills                                  11\n",
              "Coach                                   55\n",
              "Career Aspirations                      76\n",
              "Feedback                                30\n",
              "Further PD                              54\n",
              "Communication                            8\n",
              "My say                                  10\n",
              "Information                              6\n",
              "Kept informed                            9\n",
              "Wellness programs                       56\n",
              "Health & Safety                         29\n",
              "Gender                                  24\n",
              "Age                                     11\n",
              "Aboriginal                             806\n",
              "Torres Strait                          819\n",
              "South Sea                              815\n",
              "Disability                             799\n",
              "NESB                                   790\n",
              "dtype: int64"
            ]
          },
          "metadata": {
            "tags": []
          },
          "execution_count": 8
        }
      ]
    },
    {
      "cell_type": "markdown",
      "metadata": {
        "id": "yJ9D7P0b1HD8"
      },
      "source": [
        "In dete_survey the following columns have the most NaN values (over 600):\r\n",
        "\r\n",
        "* Business Unit\r\n",
        "* Aboriginal\r\n",
        "* Torres Strait\r\n",
        "* South Sea\r\n",
        "* Disability\r\n",
        "* NESB\r\n",
        "\r\n",
        "We would need to further determine whether these columns are essential to our analysis, and decide if we can remove them or replace the null values with different data.\r\n",
        "\r\n",
        "Now, let's examine tafe_survey null values:"
      ]
    },
    {
      "cell_type": "code",
      "metadata": {
        "colab": {
          "base_uri": "https://localhost:8080/"
        },
        "id": "3EmOQ-JZ1Lm5",
        "outputId": "e317d566-80e1-40f4-f321-2f52837de5ab"
      },
      "source": [
        "# Determine the NaN values in TAFE\r\n",
        "tafe.isnull().sum()"
      ],
      "execution_count": 9,
      "outputs": [
        {
          "output_type": "execute_result",
          "data": {
            "text/plain": [
              "Record ID                                                                      0\n",
              "Institute                                                                      0\n",
              "WorkArea                                                                       0\n",
              "CESSATION YEAR                                                                 7\n",
              "Reason for ceasing employment                                                  1\n",
              "                                                                            ... \n",
              "CurrentAge.     Current Age                                                  106\n",
              "Employment Type.     Employment Type                                         106\n",
              "Classification.     Classification                                           106\n",
              "LengthofServiceOverall. Overall Length of Service at Institute (in years)    106\n",
              "LengthofServiceCurrent. Length of Service at current workplace (in years)    106\n",
              "Length: 72, dtype: int64"
            ]
          },
          "metadata": {
            "tags": []
          },
          "execution_count": 9
        }
      ]
    },
    {
      "cell_type": "markdown",
      "metadata": {
        "id": "DrjKqzHilR4k"
      },
      "source": [
        "## OBSERVATIONS\r\n",
        "In dete database there are cells with Not Stated value instead of Nan.\r\n",
        "Both dataframes have similar columns but with different names.\r\n",
        "There are a lot of columns that we don't need for our analysis.\r\n",
        "There are columns with several missing numbers that we will have to remove.\r\n",
        "The great part of the causes of ceasing is voluntary reasons.\r\n",
        "Dete survey have more ceasing reasons.\r\n",
        "\r\n",
        "# CLEANING DATA\r\n",
        "### DETE SURVEY\r\n",
        "We will start setting de 'Not Stated' values as 'NaN'."
      ]
    },
    {
      "cell_type": "code",
      "metadata": {
        "colab": {
          "base_uri": "https://localhost:8080/",
          "height": 358
        },
        "id": "zg1fKsy6lKGQ",
        "outputId": "5562fd05-1c15-4182-b2f5-e614e1f03417"
      },
      "source": [
        "# We will re read the data. \r\n",
        "dete = pd.read_csv(\"http://opendata.dete.qld.gov.au/human-resources/dete-exit-survey-january-2014.csv\", encoding = \"cp1252\",na_values = 'Not Stated')\r\n",
        "dete.head(3)"
      ],
      "execution_count": 10,
      "outputs": [
        {
          "output_type": "execute_result",
          "data": {
            "text/html": [
              "<div>\n",
              "<style scoped>\n",
              "    .dataframe tbody tr th:only-of-type {\n",
              "        vertical-align: middle;\n",
              "    }\n",
              "\n",
              "    .dataframe tbody tr th {\n",
              "        vertical-align: top;\n",
              "    }\n",
              "\n",
              "    .dataframe thead th {\n",
              "        text-align: right;\n",
              "    }\n",
              "</style>\n",
              "<table border=\"1\" class=\"dataframe\">\n",
              "  <thead>\n",
              "    <tr style=\"text-align: right;\">\n",
              "      <th></th>\n",
              "      <th>ID</th>\n",
              "      <th>SeparationType</th>\n",
              "      <th>Cease Date</th>\n",
              "      <th>DETE Start Date</th>\n",
              "      <th>Role Start Date</th>\n",
              "      <th>Position</th>\n",
              "      <th>Classification</th>\n",
              "      <th>Region</th>\n",
              "      <th>Business Unit</th>\n",
              "      <th>Employment Status</th>\n",
              "      <th>Career move to public sector</th>\n",
              "      <th>Career move to private sector</th>\n",
              "      <th>Interpersonal conflicts</th>\n",
              "      <th>Job dissatisfaction</th>\n",
              "      <th>Dissatisfaction with the department</th>\n",
              "      <th>Physical work environment</th>\n",
              "      <th>Lack of recognition</th>\n",
              "      <th>Lack of job security</th>\n",
              "      <th>Work location</th>\n",
              "      <th>Employment conditions</th>\n",
              "      <th>Maternity/family</th>\n",
              "      <th>Relocation</th>\n",
              "      <th>Study/Travel</th>\n",
              "      <th>Ill Health</th>\n",
              "      <th>Traumatic incident</th>\n",
              "      <th>Work life balance</th>\n",
              "      <th>Workload</th>\n",
              "      <th>None of the above</th>\n",
              "      <th>Professional Development</th>\n",
              "      <th>Opportunities for promotion</th>\n",
              "      <th>Staff morale</th>\n",
              "      <th>Workplace issue</th>\n",
              "      <th>Physical environment</th>\n",
              "      <th>Worklife balance</th>\n",
              "      <th>Stress and pressure support</th>\n",
              "      <th>Performance of supervisor</th>\n",
              "      <th>Peer support</th>\n",
              "      <th>Initiative</th>\n",
              "      <th>Skills</th>\n",
              "      <th>Coach</th>\n",
              "      <th>Career Aspirations</th>\n",
              "      <th>Feedback</th>\n",
              "      <th>Further PD</th>\n",
              "      <th>Communication</th>\n",
              "      <th>My say</th>\n",
              "      <th>Information</th>\n",
              "      <th>Kept informed</th>\n",
              "      <th>Wellness programs</th>\n",
              "      <th>Health &amp; Safety</th>\n",
              "      <th>Gender</th>\n",
              "      <th>Age</th>\n",
              "      <th>Aboriginal</th>\n",
              "      <th>Torres Strait</th>\n",
              "      <th>South Sea</th>\n",
              "      <th>Disability</th>\n",
              "      <th>NESB</th>\n",
              "    </tr>\n",
              "  </thead>\n",
              "  <tbody>\n",
              "    <tr>\n",
              "      <th>0</th>\n",
              "      <td>1</td>\n",
              "      <td>Ill Health Retirement</td>\n",
              "      <td>08/2012</td>\n",
              "      <td>1984.0</td>\n",
              "      <td>2004.0</td>\n",
              "      <td>Public Servant</td>\n",
              "      <td>A01-A04</td>\n",
              "      <td>Central Office</td>\n",
              "      <td>Corporate Strategy and Peformance</td>\n",
              "      <td>Permanent Full-time</td>\n",
              "      <td>True</td>\n",
              "      <td>False</td>\n",
              "      <td>False</td>\n",
              "      <td>True</td>\n",
              "      <td>False</td>\n",
              "      <td>False</td>\n",
              "      <td>True</td>\n",
              "      <td>False</td>\n",
              "      <td>False</td>\n",
              "      <td>False</td>\n",
              "      <td>False</td>\n",
              "      <td>False</td>\n",
              "      <td>False</td>\n",
              "      <td>False</td>\n",
              "      <td>False</td>\n",
              "      <td>False</td>\n",
              "      <td>False</td>\n",
              "      <td>True</td>\n",
              "      <td>A</td>\n",
              "      <td>A</td>\n",
              "      <td>N</td>\n",
              "      <td>N</td>\n",
              "      <td>N</td>\n",
              "      <td>A</td>\n",
              "      <td>A</td>\n",
              "      <td>A</td>\n",
              "      <td>A</td>\n",
              "      <td>N</td>\n",
              "      <td>N</td>\n",
              "      <td>N</td>\n",
              "      <td>A</td>\n",
              "      <td>A</td>\n",
              "      <td>A</td>\n",
              "      <td>N</td>\n",
              "      <td>A</td>\n",
              "      <td>A</td>\n",
              "      <td>N</td>\n",
              "      <td>N</td>\n",
              "      <td>N</td>\n",
              "      <td>Male</td>\n",
              "      <td>56-60</td>\n",
              "      <td>NaN</td>\n",
              "      <td>NaN</td>\n",
              "      <td>NaN</td>\n",
              "      <td>NaN</td>\n",
              "      <td>Yes</td>\n",
              "    </tr>\n",
              "    <tr>\n",
              "      <th>1</th>\n",
              "      <td>2</td>\n",
              "      <td>Voluntary Early Retirement (VER)</td>\n",
              "      <td>08/2012</td>\n",
              "      <td>NaN</td>\n",
              "      <td>NaN</td>\n",
              "      <td>Public Servant</td>\n",
              "      <td>AO5-AO7</td>\n",
              "      <td>Central Office</td>\n",
              "      <td>Corporate Strategy and Peformance</td>\n",
              "      <td>Permanent Full-time</td>\n",
              "      <td>False</td>\n",
              "      <td>False</td>\n",
              "      <td>False</td>\n",
              "      <td>False</td>\n",
              "      <td>False</td>\n",
              "      <td>False</td>\n",
              "      <td>False</td>\n",
              "      <td>False</td>\n",
              "      <td>False</td>\n",
              "      <td>False</td>\n",
              "      <td>False</td>\n",
              "      <td>False</td>\n",
              "      <td>False</td>\n",
              "      <td>False</td>\n",
              "      <td>False</td>\n",
              "      <td>False</td>\n",
              "      <td>False</td>\n",
              "      <td>False</td>\n",
              "      <td>A</td>\n",
              "      <td>A</td>\n",
              "      <td>N</td>\n",
              "      <td>N</td>\n",
              "      <td>N</td>\n",
              "      <td>N</td>\n",
              "      <td>A</td>\n",
              "      <td>A</td>\n",
              "      <td>A</td>\n",
              "      <td>N</td>\n",
              "      <td>N</td>\n",
              "      <td>N</td>\n",
              "      <td>A</td>\n",
              "      <td>A</td>\n",
              "      <td>A</td>\n",
              "      <td>N</td>\n",
              "      <td>A</td>\n",
              "      <td>A</td>\n",
              "      <td>N</td>\n",
              "      <td>N</td>\n",
              "      <td>N</td>\n",
              "      <td>Male</td>\n",
              "      <td>56-60</td>\n",
              "      <td>NaN</td>\n",
              "      <td>NaN</td>\n",
              "      <td>NaN</td>\n",
              "      <td>NaN</td>\n",
              "      <td>NaN</td>\n",
              "    </tr>\n",
              "    <tr>\n",
              "      <th>2</th>\n",
              "      <td>3</td>\n",
              "      <td>Voluntary Early Retirement (VER)</td>\n",
              "      <td>05/2012</td>\n",
              "      <td>2011.0</td>\n",
              "      <td>2011.0</td>\n",
              "      <td>Schools Officer</td>\n",
              "      <td>NaN</td>\n",
              "      <td>Central Office</td>\n",
              "      <td>Education Queensland</td>\n",
              "      <td>Permanent Full-time</td>\n",
              "      <td>False</td>\n",
              "      <td>False</td>\n",
              "      <td>False</td>\n",
              "      <td>False</td>\n",
              "      <td>False</td>\n",
              "      <td>False</td>\n",
              "      <td>False</td>\n",
              "      <td>False</td>\n",
              "      <td>False</td>\n",
              "      <td>False</td>\n",
              "      <td>False</td>\n",
              "      <td>False</td>\n",
              "      <td>False</td>\n",
              "      <td>False</td>\n",
              "      <td>False</td>\n",
              "      <td>False</td>\n",
              "      <td>False</td>\n",
              "      <td>True</td>\n",
              "      <td>N</td>\n",
              "      <td>N</td>\n",
              "      <td>N</td>\n",
              "      <td>N</td>\n",
              "      <td>N</td>\n",
              "      <td>N</td>\n",
              "      <td>N</td>\n",
              "      <td>N</td>\n",
              "      <td>N</td>\n",
              "      <td>N</td>\n",
              "      <td>N</td>\n",
              "      <td>N</td>\n",
              "      <td>N</td>\n",
              "      <td>N</td>\n",
              "      <td>N</td>\n",
              "      <td>A</td>\n",
              "      <td>A</td>\n",
              "      <td>N</td>\n",
              "      <td>N</td>\n",
              "      <td>N</td>\n",
              "      <td>N</td>\n",
              "      <td>Male</td>\n",
              "      <td>61 or older</td>\n",
              "      <td>NaN</td>\n",
              "      <td>NaN</td>\n",
              "      <td>NaN</td>\n",
              "      <td>NaN</td>\n",
              "      <td>NaN</td>\n",
              "    </tr>\n",
              "  </tbody>\n",
              "</table>\n",
              "</div>"
            ],
            "text/plain": [
              "   ID                    SeparationType Cease Date  ...  South Sea  Disability NESB\n",
              "0   1             Ill Health Retirement    08/2012  ...        NaN         NaN  Yes\n",
              "1   2  Voluntary Early Retirement (VER)    08/2012  ...        NaN         NaN  NaN\n",
              "2   3  Voluntary Early Retirement (VER)    05/2012  ...        NaN         NaN  NaN\n",
              "\n",
              "[3 rows x 56 columns]"
            ]
          },
          "metadata": {
            "tags": []
          },
          "execution_count": 10
        }
      ]
    },
    {
      "cell_type": "markdown",
      "metadata": {
        "id": "1qp4LtcpmWR-"
      },
      "source": [
        "Once we have set the Nan Values, we will continue dropping the columns that we don't need for the analysis."
      ]
    },
    {
      "cell_type": "code",
      "metadata": {
        "colab": {
          "base_uri": "https://localhost:8080/"
        },
        "id": "6xtOe0L3mBr8",
        "outputId": "20368792-8d7d-4e3a-d505-b976f4d7ab3a"
      },
      "source": [
        "dete_clean = dete.drop(dete.columns[28:49],axis = 1)\r\n",
        "dete_clean.columns"
      ],
      "execution_count": 11,
      "outputs": [
        {
          "output_type": "execute_result",
          "data": {
            "text/plain": [
              "Index(['ID', 'SeparationType', 'Cease Date', 'DETE Start Date',\n",
              "       'Role Start Date', 'Position', 'Classification', 'Region',\n",
              "       'Business Unit', 'Employment Status', 'Career move to public sector',\n",
              "       'Career move to private sector', 'Interpersonal conflicts',\n",
              "       'Job dissatisfaction', 'Dissatisfaction with the department',\n",
              "       'Physical work environment', 'Lack of recognition',\n",
              "       'Lack of job security', 'Work location', 'Employment conditions',\n",
              "       'Maternity/family', 'Relocation', 'Study/Travel', 'Ill Health',\n",
              "       'Traumatic incident', 'Work life balance', 'Workload',\n",
              "       'None of the above', 'Gender', 'Age', 'Aboriginal', 'Torres Strait',\n",
              "       'South Sea', 'Disability', 'NESB'],\n",
              "      dtype='object')"
            ]
          },
          "metadata": {
            "tags": []
          },
          "execution_count": 11
        }
      ]
    },
    {
      "cell_type": "markdown",
      "metadata": {
        "id": "3QzVZXQFmoog"
      },
      "source": [
        "## TAFE \r\n",
        "We will remove the columns that we don't need on TAFE dataset as well."
      ]
    },
    {
      "cell_type": "code",
      "metadata": {
        "colab": {
          "base_uri": "https://localhost:8080/"
        },
        "id": "IcKMWSMImN5V",
        "outputId": "65d3c560-bec4-4444-e5d9-0dc4af560a47"
      },
      "source": [
        "tafe_clean = tafe.drop(tafe.columns[17:66],axis = 1)\r\n",
        "tafe_clean.columns"
      ],
      "execution_count": 12,
      "outputs": [
        {
          "output_type": "execute_result",
          "data": {
            "text/plain": [
              "Index(['Record ID', 'Institute', 'WorkArea', 'CESSATION YEAR',\n",
              "       'Reason for ceasing employment',\n",
              "       'Contributing Factors. Career Move - Public Sector ',\n",
              "       'Contributing Factors. Career Move - Private Sector ',\n",
              "       'Contributing Factors. Career Move - Self-employment',\n",
              "       'Contributing Factors. Ill Health',\n",
              "       'Contributing Factors. Maternity/Family',\n",
              "       'Contributing Factors. Dissatisfaction',\n",
              "       'Contributing Factors. Job Dissatisfaction',\n",
              "       'Contributing Factors. Interpersonal Conflict',\n",
              "       'Contributing Factors. Study', 'Contributing Factors. Travel',\n",
              "       'Contributing Factors. Other', 'Contributing Factors. NONE',\n",
              "       'Gender.     What is your Gender?', 'CurrentAge.     Current Age',\n",
              "       'Employment Type.     Employment Type',\n",
              "       'Classification.     Classification',\n",
              "       'LengthofServiceOverall. Overall Length of Service at Institute (in years)',\n",
              "       'LengthofServiceCurrent. Length of Service at current workplace (in years)'],\n",
              "      dtype='object')"
            ]
          },
          "metadata": {
            "tags": []
          },
          "execution_count": 12
        }
      ]
    },
    {
      "cell_type": "markdown",
      "metadata": {
        "id": "1FBzVNLsnMyz"
      },
      "source": [
        "# STANDARDIZE DATAFRAME\r\n",
        "\r\n",
        "To work with both dataframes together, we need to standardize the names of the columns. Prior to that, we will update the columns of **dete dataframe.**"
      ]
    },
    {
      "cell_type": "code",
      "metadata": {
        "colab": {
          "base_uri": "https://localhost:8080/"
        },
        "id": "GAF63giwm-Sy",
        "outputId": "c1d141db-e3b9-413b-a6dc-cbe6fe4314d0"
      },
      "source": [
        "dete_clean.columns = dete_clean.columns.str.replace(\" \", \"_\").str.lower().str.strip()\r\n",
        "dete_clean.columns"
      ],
      "execution_count": 13,
      "outputs": [
        {
          "output_type": "execute_result",
          "data": {
            "text/plain": [
              "Index(['id', 'separationtype', 'cease_date', 'dete_start_date',\n",
              "       'role_start_date', 'position', 'classification', 'region',\n",
              "       'business_unit', 'employment_status', 'career_move_to_public_sector',\n",
              "       'career_move_to_private_sector', 'interpersonal_conflicts',\n",
              "       'job_dissatisfaction', 'dissatisfaction_with_the_department',\n",
              "       'physical_work_environment', 'lack_of_recognition',\n",
              "       'lack_of_job_security', 'work_location', 'employment_conditions',\n",
              "       'maternity/family', 'relocation', 'study/travel', 'ill_health',\n",
              "       'traumatic_incident', 'work_life_balance', 'workload',\n",
              "       'none_of_the_above', 'gender', 'age', 'aboriginal', 'torres_strait',\n",
              "       'south_sea', 'disability', 'nesb'],\n",
              "      dtype='object')"
            ]
          },
          "metadata": {
            "tags": []
          },
          "execution_count": 13
        }
      ]
    },
    {
      "cell_type": "markdown",
      "metadata": {
        "id": "1DMVJ5o1npcY"
      },
      "source": [
        "Now, it's the turn of **tafe dataframe**. We will rename some columns that we will use in our analysis."
      ]
    },
    {
      "cell_type": "code",
      "metadata": {
        "colab": {
          "base_uri": "https://localhost:8080/"
        },
        "id": "nGgKh42lnivq",
        "outputId": "6651131c-176c-4c25-b3a1-98e0d33b8336"
      },
      "source": [
        "column_names = {'Record ID':'id','CESSATION YEAR': 'cease_date','Reason for ceasing employment': 'separationtype',\r\n",
        "                'Gender.     What is your Gender?': 'gender','CurrentAge.     Current Age': 'age',\r\n",
        "                'Employment Type.     Employment Type': 'employment_status','Classification.     Classification': 'position',\r\n",
        "                'LengthofServiceOverall. Overall Length of Service at Institute (in years)': 'institute_service',\r\n",
        "                'LengthofServiceCurrent. Length of Service at current workplace (in years)': 'role_service'}\r\n",
        "tafe_clean = tafe_clean.rename(columns = column_names)\r\n",
        "tafe_clean.columns"
      ],
      "execution_count": 14,
      "outputs": [
        {
          "output_type": "execute_result",
          "data": {
            "text/plain": [
              "Index(['id', 'Institute', 'WorkArea', 'cease_date', 'separationtype',\n",
              "       'Contributing Factors. Career Move - Public Sector ',\n",
              "       'Contributing Factors. Career Move - Private Sector ',\n",
              "       'Contributing Factors. Career Move - Self-employment',\n",
              "       'Contributing Factors. Ill Health',\n",
              "       'Contributing Factors. Maternity/Family',\n",
              "       'Contributing Factors. Dissatisfaction',\n",
              "       'Contributing Factors. Job Dissatisfaction',\n",
              "       'Contributing Factors. Interpersonal Conflict',\n",
              "       'Contributing Factors. Study', 'Contributing Factors. Travel',\n",
              "       'Contributing Factors. Other', 'Contributing Factors. NONE',\n",
              "       'Gender.     What is your Gender?', 'CurrentAge.     Current Age',\n",
              "       'Employment Type.     Employment Type',\n",
              "       'Classification.     Classification', 'institute_service',\n",
              "       'role_service'],\n",
              "      dtype='object')"
            ]
          },
          "metadata": {
            "tags": []
          },
          "execution_count": 14
        }
      ]
    },
    {
      "cell_type": "markdown",
      "metadata": {
        "id": "7ehqaxiwoYXi"
      },
      "source": [
        "## Fitering the Data\r\n",
        "Recall that our end goal is to answer the following question:\r\n",
        "\r\n",
        "Are employees who have only worked for the institutes for a short period of time resigning due to some kind of dissatisfaction? What about employees who have been at the job longer?\r\n",
        "\r\n",
        "If we look at the unique values in the separationtype columns in each dataframe, we'll see that each contains a couple of different separation types. For this project, we'll only analyze survey respondents who resigned, so their separation type contains the string 'Resignation'."
      ]
    },
    {
      "cell_type": "code",
      "metadata": {
        "colab": {
          "base_uri": "https://localhost:8080/"
        },
        "id": "HziBIOwav8vb",
        "outputId": "80b20726-95d0-4714-cd76-31158cb7605f"
      },
      "source": [
        "dete_clean['separationtype'].value_counts()"
      ],
      "execution_count": 15,
      "outputs": [
        {
          "output_type": "execute_result",
          "data": {
            "text/plain": [
              "Age Retirement                          285\n",
              "Resignation-Other reasons               150\n",
              "Resignation-Other employer               91\n",
              "Resignation-Move overseas/interstate     70\n",
              "Voluntary Early Retirement (VER)         67\n",
              "Ill Health Retirement                    61\n",
              "Other                                    49\n",
              "Contract Expired                         34\n",
              "Termination                              15\n",
              "Name: separationtype, dtype: int64"
            ]
          },
          "metadata": {
            "tags": []
          },
          "execution_count": 15
        }
      ]
    },
    {
      "cell_type": "code",
      "metadata": {
        "colab": {
          "base_uri": "https://localhost:8080/"
        },
        "id": "Ayn0VaVxv8zt",
        "outputId": "161516f8-5333-49cb-ee4d-159df3b6d430"
      },
      "source": [
        "tafe_clean['separationtype'].value_counts()"
      ],
      "execution_count": 16,
      "outputs": [
        {
          "output_type": "execute_result",
          "data": {
            "text/plain": [
              "Resignation                 340\n",
              "Contract Expired            127\n",
              "Retrenchment/ Redundancy    104\n",
              "Retirement                   82\n",
              "Transfer                     25\n",
              "Termination                  23\n",
              "Name: separationtype, dtype: int64"
            ]
          },
          "metadata": {
            "tags": []
          },
          "execution_count": 16
        }
      ]
    },
    {
      "cell_type": "code",
      "metadata": {
        "id": "_o7NoCXIv83o",
        "colab": {
          "base_uri": "https://localhost:8080/"
        },
        "outputId": "34d94e9e-f7f8-469c-cf8e-38e64f42a9c7"
      },
      "source": [
        "# Modifying strings in column names related to `Resignation` \r\n",
        "dete_clean['separationtype'] = dete_clean['separationtype'].str.split(\"-\").str.get(0)\r\n",
        "dete_clean[\"separationtype\"].value_counts()"
      ],
      "execution_count": 17,
      "outputs": [
        {
          "output_type": "execute_result",
          "data": {
            "text/plain": [
              "Resignation                         311\n",
              "Age Retirement                      285\n",
              "Voluntary Early Retirement (VER)     67\n",
              "Ill Health Retirement                61\n",
              "Other                                49\n",
              "Contract Expired                     34\n",
              "Termination                          15\n",
              "Name: separationtype, dtype: int64"
            ]
          },
          "metadata": {
            "tags": []
          },
          "execution_count": 17
        }
      ]
    },
    {
      "cell_type": "code",
      "metadata": {
        "colab": {
          "base_uri": "https://localhost:8080/",
          "height": 160
        },
        "id": "zlUTZzqsOP2Q",
        "outputId": "4bd87764-bd87-4eb3-ae12-372c77c3e05f"
      },
      "source": [
        "# Creating a new DETE dataframe that consist only the data of employees who resigned\r\n",
        "dete_resignations = dete_clean[dete_clean['separationtype'] == 'Resignation'].copy()\r\n",
        "dete_resignations.head(2)"
      ],
      "execution_count": 18,
      "outputs": [
        {
          "output_type": "execute_result",
          "data": {
            "text/html": [
              "<div>\n",
              "<style scoped>\n",
              "    .dataframe tbody tr th:only-of-type {\n",
              "        vertical-align: middle;\n",
              "    }\n",
              "\n",
              "    .dataframe tbody tr th {\n",
              "        vertical-align: top;\n",
              "    }\n",
              "\n",
              "    .dataframe thead th {\n",
              "        text-align: right;\n",
              "    }\n",
              "</style>\n",
              "<table border=\"1\" class=\"dataframe\">\n",
              "  <thead>\n",
              "    <tr style=\"text-align: right;\">\n",
              "      <th></th>\n",
              "      <th>id</th>\n",
              "      <th>separationtype</th>\n",
              "      <th>cease_date</th>\n",
              "      <th>dete_start_date</th>\n",
              "      <th>role_start_date</th>\n",
              "      <th>position</th>\n",
              "      <th>classification</th>\n",
              "      <th>region</th>\n",
              "      <th>business_unit</th>\n",
              "      <th>employment_status</th>\n",
              "      <th>career_move_to_public_sector</th>\n",
              "      <th>career_move_to_private_sector</th>\n",
              "      <th>interpersonal_conflicts</th>\n",
              "      <th>job_dissatisfaction</th>\n",
              "      <th>dissatisfaction_with_the_department</th>\n",
              "      <th>physical_work_environment</th>\n",
              "      <th>lack_of_recognition</th>\n",
              "      <th>lack_of_job_security</th>\n",
              "      <th>work_location</th>\n",
              "      <th>employment_conditions</th>\n",
              "      <th>maternity/family</th>\n",
              "      <th>relocation</th>\n",
              "      <th>study/travel</th>\n",
              "      <th>ill_health</th>\n",
              "      <th>traumatic_incident</th>\n",
              "      <th>work_life_balance</th>\n",
              "      <th>workload</th>\n",
              "      <th>none_of_the_above</th>\n",
              "      <th>gender</th>\n",
              "      <th>age</th>\n",
              "      <th>aboriginal</th>\n",
              "      <th>torres_strait</th>\n",
              "      <th>south_sea</th>\n",
              "      <th>disability</th>\n",
              "      <th>nesb</th>\n",
              "    </tr>\n",
              "  </thead>\n",
              "  <tbody>\n",
              "    <tr>\n",
              "      <th>3</th>\n",
              "      <td>4</td>\n",
              "      <td>Resignation</td>\n",
              "      <td>05/2012</td>\n",
              "      <td>2005.0</td>\n",
              "      <td>2006.0</td>\n",
              "      <td>Teacher</td>\n",
              "      <td>Primary</td>\n",
              "      <td>Central Queensland</td>\n",
              "      <td>NaN</td>\n",
              "      <td>Permanent Full-time</td>\n",
              "      <td>False</td>\n",
              "      <td>True</td>\n",
              "      <td>False</td>\n",
              "      <td>False</td>\n",
              "      <td>False</td>\n",
              "      <td>False</td>\n",
              "      <td>False</td>\n",
              "      <td>False</td>\n",
              "      <td>False</td>\n",
              "      <td>False</td>\n",
              "      <td>False</td>\n",
              "      <td>False</td>\n",
              "      <td>False</td>\n",
              "      <td>False</td>\n",
              "      <td>False</td>\n",
              "      <td>False</td>\n",
              "      <td>False</td>\n",
              "      <td>False</td>\n",
              "      <td>Female</td>\n",
              "      <td>36-40</td>\n",
              "      <td>NaN</td>\n",
              "      <td>NaN</td>\n",
              "      <td>NaN</td>\n",
              "      <td>NaN</td>\n",
              "      <td>NaN</td>\n",
              "    </tr>\n",
              "    <tr>\n",
              "      <th>5</th>\n",
              "      <td>6</td>\n",
              "      <td>Resignation</td>\n",
              "      <td>05/2012</td>\n",
              "      <td>1994.0</td>\n",
              "      <td>1997.0</td>\n",
              "      <td>Guidance Officer</td>\n",
              "      <td>NaN</td>\n",
              "      <td>Central Office</td>\n",
              "      <td>Education Queensland</td>\n",
              "      <td>Permanent Full-time</td>\n",
              "      <td>False</td>\n",
              "      <td>True</td>\n",
              "      <td>False</td>\n",
              "      <td>False</td>\n",
              "      <td>False</td>\n",
              "      <td>False</td>\n",
              "      <td>False</td>\n",
              "      <td>False</td>\n",
              "      <td>False</td>\n",
              "      <td>True</td>\n",
              "      <td>True</td>\n",
              "      <td>False</td>\n",
              "      <td>False</td>\n",
              "      <td>False</td>\n",
              "      <td>False</td>\n",
              "      <td>False</td>\n",
              "      <td>False</td>\n",
              "      <td>False</td>\n",
              "      <td>Female</td>\n",
              "      <td>41-45</td>\n",
              "      <td>NaN</td>\n",
              "      <td>NaN</td>\n",
              "      <td>NaN</td>\n",
              "      <td>NaN</td>\n",
              "      <td>NaN</td>\n",
              "    </tr>\n",
              "  </tbody>\n",
              "</table>\n",
              "</div>"
            ],
            "text/plain": [
              "   id separationtype cease_date  ...  south_sea  disability nesb\n",
              "3   4    Resignation    05/2012  ...        NaN         NaN  NaN\n",
              "5   6    Resignation    05/2012  ...        NaN         NaN  NaN\n",
              "\n",
              "[2 rows x 35 columns]"
            ]
          },
          "metadata": {
            "tags": []
          },
          "execution_count": 18
        }
      ]
    },
    {
      "cell_type": "code",
      "metadata": {
        "id": "IGt2WN7pv87c",
        "colab": {
          "base_uri": "https://localhost:8080/",
          "height": 278
        },
        "outputId": "eda2afcf-25cc-4705-9209-d7ebd18f8d69"
      },
      "source": [
        "# Creating a new TAFE dataframe that consist only the data of employees who resigned\r\n",
        "tafe_resignations = tafe_clean[tafe_clean['separationtype'] == 'Resignation'].copy()\r\n",
        "tafe_resignations.head(2)"
      ],
      "execution_count": 19,
      "outputs": [
        {
          "output_type": "execute_result",
          "data": {
            "text/html": [
              "<div>\n",
              "<style scoped>\n",
              "    .dataframe tbody tr th:only-of-type {\n",
              "        vertical-align: middle;\n",
              "    }\n",
              "\n",
              "    .dataframe tbody tr th {\n",
              "        vertical-align: top;\n",
              "    }\n",
              "\n",
              "    .dataframe thead th {\n",
              "        text-align: right;\n",
              "    }\n",
              "</style>\n",
              "<table border=\"1\" class=\"dataframe\">\n",
              "  <thead>\n",
              "    <tr style=\"text-align: right;\">\n",
              "      <th></th>\n",
              "      <th>id</th>\n",
              "      <th>Institute</th>\n",
              "      <th>WorkArea</th>\n",
              "      <th>cease_date</th>\n",
              "      <th>separationtype</th>\n",
              "      <th>Contributing Factors. Career Move - Public Sector</th>\n",
              "      <th>Contributing Factors. Career Move - Private Sector</th>\n",
              "      <th>Contributing Factors. Career Move - Self-employment</th>\n",
              "      <th>Contributing Factors. Ill Health</th>\n",
              "      <th>Contributing Factors. Maternity/Family</th>\n",
              "      <th>Contributing Factors. Dissatisfaction</th>\n",
              "      <th>Contributing Factors. Job Dissatisfaction</th>\n",
              "      <th>Contributing Factors. Interpersonal Conflict</th>\n",
              "      <th>Contributing Factors. Study</th>\n",
              "      <th>Contributing Factors. Travel</th>\n",
              "      <th>Contributing Factors. Other</th>\n",
              "      <th>Contributing Factors. NONE</th>\n",
              "      <th>Gender.     What is your Gender?</th>\n",
              "      <th>CurrentAge.     Current Age</th>\n",
              "      <th>Employment Type.     Employment Type</th>\n",
              "      <th>Classification.     Classification</th>\n",
              "      <th>institute_service</th>\n",
              "      <th>role_service</th>\n",
              "    </tr>\n",
              "  </thead>\n",
              "  <tbody>\n",
              "    <tr>\n",
              "      <th>3</th>\n",
              "      <td>634139903350000000</td>\n",
              "      <td>Mount Isa Institute of TAFE</td>\n",
              "      <td>Non-Delivery (corporate)</td>\n",
              "      <td>2010.0</td>\n",
              "      <td>Resignation</td>\n",
              "      <td>-</td>\n",
              "      <td>-</td>\n",
              "      <td>-</td>\n",
              "      <td>-</td>\n",
              "      <td>-</td>\n",
              "      <td>-</td>\n",
              "      <td>-</td>\n",
              "      <td>-</td>\n",
              "      <td>-</td>\n",
              "      <td>Travel</td>\n",
              "      <td>-</td>\n",
              "      <td>-</td>\n",
              "      <td>NaN</td>\n",
              "      <td>NaN</td>\n",
              "      <td>NaN</td>\n",
              "      <td>NaN</td>\n",
              "      <td>NaN</td>\n",
              "      <td>NaN</td>\n",
              "    </tr>\n",
              "    <tr>\n",
              "      <th>4</th>\n",
              "      <td>634146578511788000</td>\n",
              "      <td>Southern Queensland Institute of TAFE</td>\n",
              "      <td>Delivery (teaching)</td>\n",
              "      <td>2010.0</td>\n",
              "      <td>Resignation</td>\n",
              "      <td>-</td>\n",
              "      <td>Career Move - Private Sector</td>\n",
              "      <td>-</td>\n",
              "      <td>-</td>\n",
              "      <td>-</td>\n",
              "      <td>-</td>\n",
              "      <td>-</td>\n",
              "      <td>-</td>\n",
              "      <td>-</td>\n",
              "      <td>-</td>\n",
              "      <td>-</td>\n",
              "      <td>-</td>\n",
              "      <td>Male</td>\n",
              "      <td>41 – 45</td>\n",
              "      <td>Permanent Full-time</td>\n",
              "      <td>Teacher (including LVT)</td>\n",
              "      <td>3-4</td>\n",
              "      <td>3-4</td>\n",
              "    </tr>\n",
              "  </tbody>\n",
              "</table>\n",
              "</div>"
            ],
            "text/plain": [
              "                   id  ... role_service\n",
              "3  634139903350000000  ...          NaN\n",
              "4  634146578511788000  ...          3-4\n",
              "\n",
              "[2 rows x 23 columns]"
            ]
          },
          "metadata": {
            "tags": []
          },
          "execution_count": 19
        }
      ]
    },
    {
      "cell_type": "markdown",
      "metadata": {
        "id": "Ev_mgGjsxQP2"
      },
      "source": [
        "To select three Resignation separation types in dete_clean we had to modify their names so they will be the same. We used str.split() and str.get() functions to achieve that. After selecting the values we assigned the resulting dataframe to dete_resignations.\r\n",
        "\r\n",
        "We didn't need to modify anything in tafe_survey_updated, so we selected the Resignation values and assigned to tafe_resignations.\r\n",
        "\r\n",
        "## Verifying the Data\r\n",
        "Now, before we start cleaning and manipulating the rest of our data, let's verify that the data doesn't contain any major inconsistencies (to the best of our knowledge).\r\n",
        "\r\n",
        "In this step, we'll focus on verifying that the years in the cease_date and dete_start_date columns make sense.\r\n",
        "\r\n",
        "* Since the cease_date is the last year of the person's employment and the dete_start_date is the person's first year of employment, it wouldn't make sense to have years after the current date.\r\n",
        "\r\n",
        "* Given that most people in this field start working in their 20s, it's also unlikely that the dete_start_date was before the year 1940.\r\n",
        "\r\n",
        "If we have many years higher than the current date or lower than 1940, we wouldn't want to continue with our analysis, because it could mean there's something very wrong with the data. If there are a small amount of values that are unrealistically high or low, we can remove them."
      ]
    },
    {
      "cell_type": "code",
      "metadata": {
        "colab": {
          "base_uri": "https://localhost:8080/"
        },
        "id": "LWbxBOkzv9AK",
        "outputId": "a857cc27-3e40-44f8-8595-aab36bbb3813"
      },
      "source": [
        "dete_resignations['dete_start_date'].describe()"
      ],
      "execution_count": 20,
      "outputs": [
        {
          "output_type": "execute_result",
          "data": {
            "text/plain": [
              "count     283.000000\n",
              "mean     2002.067138\n",
              "std         9.914479\n",
              "min      1963.000000\n",
              "25%      1997.000000\n",
              "50%      2005.000000\n",
              "75%      2010.000000\n",
              "max      2013.000000\n",
              "Name: dete_start_date, dtype: float64"
            ]
          },
          "metadata": {
            "tags": []
          },
          "execution_count": 20
        }
      ]
    },
    {
      "cell_type": "code",
      "metadata": {
        "colab": {
          "base_uri": "https://localhost:8080/"
        },
        "id": "YViXo1ipv9Ew",
        "outputId": "6f605bb3-f2ec-4a43-8780-c7572966e235"
      },
      "source": [
        "# Determining the unique values in `dete_start_date` column \r\n",
        "dete_resignations['dete_start_date'].value_counts().sort_index(ascending=True)"
      ],
      "execution_count": 21,
      "outputs": [
        {
          "output_type": "execute_result",
          "data": {
            "text/plain": [
              "1963.0     1\n",
              "1971.0     1\n",
              "1972.0     1\n",
              "1973.0     1\n",
              "1974.0     2\n",
              "1975.0     1\n",
              "1976.0     2\n",
              "1977.0     1\n",
              "1980.0     5\n",
              "1982.0     1\n",
              "1983.0     2\n",
              "1984.0     1\n",
              "1985.0     3\n",
              "1986.0     3\n",
              "1987.0     1\n",
              "1988.0     4\n",
              "1989.0     4\n",
              "1990.0     5\n",
              "1991.0     4\n",
              "1992.0     6\n",
              "1993.0     5\n",
              "1994.0     6\n",
              "1995.0     4\n",
              "1996.0     6\n",
              "1997.0     5\n",
              "1998.0     6\n",
              "1999.0     8\n",
              "2000.0     9\n",
              "2001.0     3\n",
              "2002.0     6\n",
              "2003.0     6\n",
              "2004.0    14\n",
              "2005.0    15\n",
              "2006.0    13\n",
              "2007.0    21\n",
              "2008.0    22\n",
              "2009.0    13\n",
              "2010.0    17\n",
              "2011.0    24\n",
              "2012.0    21\n",
              "2013.0    10\n",
              "Name: dete_start_date, dtype: int64"
            ]
          },
          "metadata": {
            "tags": []
          },
          "execution_count": 21
        }
      ]
    },
    {
      "cell_type": "code",
      "metadata": {
        "colab": {
          "base_uri": "https://localhost:8080/",
          "height": 389
        },
        "id": "0fd5Q9Jcv9JH",
        "outputId": "f68d9200-b4d1-4d58-b1a1-3d166cc4faa0"
      },
      "source": [
        "# Plotting the unique values of 'dete_start_date' on a boxplot \r\n",
        "fig = plt.figure(figsize=(10,5))\r\n",
        "sns.set_style('dark')\r\n",
        "sns.despine(left=True, bottom=True)\r\n",
        "ax1 = sns.boxplot(dete_resignations['dete_start_date']);"
      ],
      "execution_count": 22,
      "outputs": [
        {
          "output_type": "stream",
          "text": [
            "/usr/local/lib/python3.6/dist-packages/seaborn/_decorators.py:43: FutureWarning: Pass the following variable as a keyword arg: x. From version 0.12, the only valid positional argument will be `data`, and passing other arguments without an explicit keyword will result in an error or misinterpretation.\n",
            "  FutureWarning\n"
          ],
          "name": "stderr"
        },
        {
          "output_type": "display_data",
          "data": {
            "image/png": "[encoded data removed]",
            "text/plain": [
              "<Figure size 720x360 with 1 Axes>"
            ]
          },
          "metadata": {
            "tags": [],
            "needs_background": "light"
          }
        }
      ]
    },
    {
      "cell_type": "markdown",
      "metadata": {
        "id": "mzsBfLZvys0f"
      },
      "source": [
        "The boxplot above shows us that there are some outliers in the dete_start_date column concentrated in the range 1960-1980. The majority of values lie in the first quartile. No values seem to be unreasonable for the purpose of our project.\r\n",
        "\r\n",
        "Moving on to **cease_date column** in dete_resignations:"
      ]
    },
    {
      "cell_type": "code",
      "metadata": {
        "colab": {
          "base_uri": "https://localhost:8080/"
        },
        "id": "SyHT3R34yWB3",
        "outputId": "20a234ca-2649-4e0a-b1b7-bcc8ed5188f7"
      },
      "source": [
        "dete_resignations['cease_date'].value_counts()"
      ],
      "execution_count": 23,
      "outputs": [
        {
          "output_type": "execute_result",
          "data": {
            "text/plain": [
              "2012       126\n",
              "2013        74\n",
              "01/2014     22\n",
              "12/2013     17\n",
              "06/2013     14\n",
              "09/2013     11\n",
              "07/2013      9\n",
              "11/2013      9\n",
              "10/2013      6\n",
              "08/2013      4\n",
              "05/2013      2\n",
              "05/2012      2\n",
              "07/2006      1\n",
              "07/2012      1\n",
              "09/2010      1\n",
              "2010         1\n",
              "Name: cease_date, dtype: int64"
            ]
          },
          "metadata": {
            "tags": []
          },
          "execution_count": 23
        }
      ]
    },
    {
      "cell_type": "markdown",
      "metadata": {
        "id": "LgcjyWxGy-DJ"
      },
      "source": [
        "As we can see our cease_date data is inconsistent, therefore we have to extract only the years using vectorized string methods."
      ]
    },
    {
      "cell_type": "code",
      "metadata": {
        "colab": {
          "base_uri": "https://localhost:8080/"
        },
        "id": "9rQvD_fRyWHd",
        "outputId": "9e14b257-32e9-4a03-cfa1-00e6702a1e7d"
      },
      "source": [
        "# Modifying strings to extract only the year in `cease_date`\r\n",
        "dete_resignations['cease_date'] = dete_resignations['cease_date'].str.split('/').str.get(-1)\r\n",
        "dete_resignations['cease_date'].value_counts()"
      ],
      "execution_count": 24,
      "outputs": [
        {
          "output_type": "execute_result",
          "data": {
            "text/plain": [
              "2013    146\n",
              "2012    129\n",
              "2014     22\n",
              "2010      2\n",
              "2006      1\n",
              "Name: cease_date, dtype: int64"
            ]
          },
          "metadata": {
            "tags": []
          },
          "execution_count": 24
        }
      ]
    },
    {
      "cell_type": "code",
      "metadata": {
        "id": "lV2F7adpyWL2"
      },
      "source": [
        "# Converting the values to `float` \r\n",
        "dete_resignations['cease_date'] = dete_resignations['cease_date'].astype(float)"
      ],
      "execution_count": 25,
      "outputs": []
    },
    {
      "cell_type": "code",
      "metadata": {
        "colab": {
          "base_uri": "https://localhost:8080/",
          "height": 312
        },
        "id": "x1KlD1t_zMet",
        "outputId": "382b7c3d-db9a-4a03-ccf5-f177eacdee1a"
      },
      "source": [
        "# Selecting the years and numbers \r\n",
        "dete_cease_dates = pd.DataFrame({\"Years\":['2006','2010','2012','2013','2014'] , \"Nums\":[1,2,129,146,22]})\r\n",
        "\r\n",
        "# Plotting the results\r\n",
        "ax2 = dete_cease_dates.plot.bar(x='Years', y='Nums', legend=False) \r\n",
        "ax2.set_xlabel('Resignation Years')\r\n",
        "ax2.set_ylabel('Number of resigned employees')"
      ],
      "execution_count": 26,
      "outputs": [
        {
          "output_type": "execute_result",
          "data": {
            "text/plain": [
              "Text(0, 0.5, 'Number of resigned employees')"
            ]
          },
          "metadata": {
            "tags": []
          },
          "execution_count": 26
        },
        {
          "output_type": "display_data",
          "data": {
            "image/png": "[encoded data removed]",
            "text/plain": [
              "<Figure size 432x288 with 1 Axes>"
            ]
          },
          "metadata": {
            "tags": []
          }
        }
      ]
    },
    {
      "cell_type": "markdown",
      "metadata": {
        "id": "d5V4i0Jf0jY3"
      },
      "source": [
        "We can observe that resignation of DETE ex-employees spans between 2006-2014."
      ]
    },
    {
      "cell_type": "code",
      "metadata": {
        "colab": {
          "base_uri": "https://localhost:8080/"
        },
        "id": "mDbivp77zMmj",
        "outputId": "003793c6-7386-4cf7-bd3d-1aa64ab721d3"
      },
      "source": [
        "tafe_resignations['cease_date'].value_counts().sort_index(ascending=True)"
      ],
      "execution_count": 27,
      "outputs": [
        {
          "output_type": "execute_result",
          "data": {
            "text/plain": [
              "2009.0      2\n",
              "2010.0     68\n",
              "2011.0    116\n",
              "2012.0     94\n",
              "2013.0     55\n",
              "Name: cease_date, dtype: int64"
            ]
          },
          "metadata": {
            "tags": []
          },
          "execution_count": 27
        }
      ]
    },
    {
      "cell_type": "code",
      "metadata": {
        "colab": {
          "base_uri": "https://localhost:8080/",
          "height": 296
        },
        "id": "be1s1NE-zMrw",
        "outputId": "9fa227d4-ace7-4154-8392-2e33c719292d"
      },
      "source": [
        "# Selecting the years and numbers \r\n",
        "tafe_cease_dates = pd.DataFrame({\"Years\":['2009','2010','2011','2012','2013'] , \"Nums\":[2,68,116,94,55]})\r\n",
        "\r\n",
        "# Plotting the results \r\n",
        "ax3 = tafe_cease_dates.plot.bar(x='Years', y='Nums', legend=False) \r\n",
        "ax3.set_xlabel('Resignation Years')\r\n",
        "ax3.set_ylabel('Number of resigned employees');"
      ],
      "execution_count": 28,
      "outputs": [
        {
          "output_type": "display_data",
          "data": {
            "image/png": "[encoded data removed]",
            "text/plain": [
              "<Figure size 432x288 with 1 Axes>"
            ]
          },
          "metadata": {
            "tags": []
          }
        }
      ]
    },
    {
      "cell_type": "markdown",
      "metadata": {
        "id": "52z8S5W703E9"
      },
      "source": [
        "The bar plot for TAFE resignation years and number of employees shows us an increase in resigning employees from 2009 to 2011, and stable fall from 2011 to 2013. All values seem to be realistic, but year span is slighly different from DETE.\r\n",
        "\r\n",
        "We will keep all years for our analysis."
      ]
    },
    {
      "cell_type": "markdown",
      "metadata": {
        "id": "h8jWNGgS09sb"
      },
      "source": [
        "## Creating a New Column\r\n",
        "Recall that our end goal is to answer the following question:\r\n",
        "\r\n",
        "Are employees who have only worked for the institutes for a short period of time resigning due to some kind of dissatisfaction? What about employees who have been at the job longer?\r\n",
        "\r\n",
        "Since we have both start and end dates of service in DETE dataframe, we can calculate the length and create a new column in dete_resignations called institute_service."
      ]
    },
    {
      "cell_type": "code",
      "metadata": {
        "colab": {
          "base_uri": "https://localhost:8080/"
        },
        "id": "3TBR4ehezMwd",
        "outputId": "076087e7-a8c3-4728-be7f-26bbbdb13563"
      },
      "source": [
        "# Creating new column\r\n",
        "dete_resignations['institute_service'] = dete_resignations['cease_date'] - dete_resignations['dete_start_date']\r\n",
        "\r\n",
        "# Checking unique values \r\n",
        "dete_resignations['institute_service'].value_counts().sort_index(ascending=True)"
      ],
      "execution_count": 29,
      "outputs": [
        {
          "output_type": "execute_result",
          "data": {
            "text/plain": [
              "0.0     20\n",
              "1.0     22\n",
              "2.0     14\n",
              "3.0     20\n",
              "4.0     16\n",
              "5.0     23\n",
              "6.0     17\n",
              "7.0     13\n",
              "8.0      8\n",
              "9.0     14\n",
              "10.0     6\n",
              "11.0     4\n",
              "12.0     6\n",
              "13.0     8\n",
              "14.0     6\n",
              "15.0     7\n",
              "16.0     5\n",
              "17.0     6\n",
              "18.0     5\n",
              "19.0     3\n",
              "20.0     7\n",
              "21.0     3\n",
              "22.0     6\n",
              "23.0     4\n",
              "24.0     4\n",
              "25.0     2\n",
              "26.0     2\n",
              "27.0     1\n",
              "28.0     2\n",
              "29.0     1\n",
              "30.0     2\n",
              "31.0     1\n",
              "32.0     3\n",
              "33.0     1\n",
              "34.0     1\n",
              "35.0     1\n",
              "36.0     2\n",
              "38.0     1\n",
              "39.0     3\n",
              "41.0     1\n",
              "42.0     1\n",
              "49.0     1\n",
              "Name: institute_service, dtype: int64"
            ]
          },
          "metadata": {
            "tags": []
          },
          "execution_count": 29
        }
      ]
    },
    {
      "cell_type": "markdown",
      "metadata": {
        "id": "feAabx4p1UyF"
      },
      "source": [
        "This new column institute_service makes it easier to understand the span of the length of time the DETE employee spent in their workplace. Majority of the employees have worked from less than a year up to 10 years. The smaller fraction of employees have spend 20-30 years in DETE. The longest period is 49 years."
      ]
    },
    {
      "cell_type": "markdown",
      "metadata": {
        "id": "0KisO5DS1ze9"
      },
      "source": [
        "## Identifying Dissatisfied Employees\r\n",
        "In this step, we'll identify any employees who resigned because they were dissatisfied.\r\n",
        "\r\n",
        "Below are the columns we'll use to categorize employees as \"dissatisfied\" from each dataframe.\r\n",
        "\r\n",
        "# **tafe_survey_updated:**\r\n",
        "* Contributing Factors. Dissatisfaction\r\n",
        "* Contributing Factors. Job Dissatisfaction\r\n",
        "# **detesurveyupdated:**\r\n",
        "* job_dissatisfaction\r\n",
        "* dissatisfaction_with_the_department\r\n",
        "* physical_work_environment\r\n",
        "*  lack_of_recognition\r\n",
        "* lack_of_job_security\r\n",
        "* work_location\r\n",
        "* employment_conditions\r\n",
        "* work_life_balance\r\n",
        "* workload\r\n",
        "\r\n",
        "If the employee indicated any of the factors above caused them to resign, we'll mark them as dissatisfied in a new column.\r\n",
        "\r\n",
        "These steps will help us identify dissatisfied employees in both TAFE and DETE:\r\n",
        "\r\n",
        "1. Use Series.value_counts method to view the values in selected columns\r\n",
        "\r\n",
        "2. Write a function that will update the values in selected columns\r\n",
        "\r\n",
        "3. Use DataFrame.applymap() method to apply this function to all selected columns\r\n",
        "\r\n",
        "4. Create a dissatisfied column in both dataframes using DataFrame.any() method\r\n",
        "\r\n",
        "5. Use df.copy() method to create a copy of the results and avoid the SettingWithCopy Warning."
      ]
    },
    {
      "cell_type": "code",
      "metadata": {
        "colab": {
          "base_uri": "https://localhost:8080/"
        },
        "id": "LOrloKhNzM0D",
        "outputId": "253dc4dc-d239-45c5-fdb3-6d802bca8136"
      },
      "source": [
        "# 1. number of unique employees\r\n",
        "tafe_resignations['Contributing Factors. Dissatisfaction'].value_counts()"
      ],
      "execution_count": 30,
      "outputs": [
        {
          "output_type": "execute_result",
          "data": {
            "text/plain": [
              "-                                         277\n",
              "Contributing Factors. Dissatisfaction      55\n",
              "Name: Contributing Factors. Dissatisfaction, dtype: int64"
            ]
          },
          "metadata": {
            "tags": []
          },
          "execution_count": 30
        }
      ]
    },
    {
      "cell_type": "code",
      "metadata": {
        "colab": {
          "base_uri": "https://localhost:8080/"
        },
        "id": "XHLDU-CVzM3g",
        "outputId": "14bd2af7-e580-45ab-97a7-ac1f9b8fb615"
      },
      "source": [
        "tafe_resignations['Contributing Factors. Job Dissatisfaction'].value_counts()"
      ],
      "execution_count": 31,
      "outputs": [
        {
          "output_type": "execute_result",
          "data": {
            "text/plain": [
              "-                      270\n",
              "Job Dissatisfaction     62\n",
              "Name: Contributing Factors. Job Dissatisfaction, dtype: int64"
            ]
          },
          "metadata": {
            "tags": []
          },
          "execution_count": 31
        }
      ]
    },
    {
      "cell_type": "code",
      "metadata": {
        "id": "0Dvo33yOzM8f"
      },
      "source": [
        "# 2. Creating a new function named `update_vals` \r\n",
        "def update_vals(val): \r\n",
        "    if pd.isnull(val):\r\n",
        "        return np.nan\r\n",
        "    elif val == '-': \r\n",
        "        return False \r\n",
        "    else: \r\n",
        "        return True"
      ],
      "execution_count": 32,
      "outputs": []
    },
    {
      "cell_type": "code",
      "metadata": {
        "id": "G16mRwQ9zNAM"
      },
      "source": [
        "# Applying `update_vals` function to selected columns in TAFE dataframe \r\n",
        "cols = ['Contributing Factors. Dissatisfaction', 'Contributing Factors. Job Dissatisfaction']\r\n",
        "\r\n",
        "# Passing a fucntion to all values and creating a new column\r\n",
        "tafe_resignations['dissatisfied'] = tafe_resignations[cols].applymap(update_vals).any(axis=1, skipna=False)\r\n",
        "\r\n",
        "# Creating a copy of the result\r\n",
        "tafe_resignations_up = tafe_resignations.copy()"
      ],
      "execution_count": 44,
      "outputs": []
    },
    {
      "cell_type": "code",
      "metadata": {
        "colab": {
          "base_uri": "https://localhost:8080/"
        },
        "id": "LsdM9OcZ5VPw",
        "outputId": "aa49bc68-80f6-4812-ab25-02d39fbe48c5"
      },
      "source": [
        "tafe_resignations['dissatisfied'].value_counts(dropna=False)"
      ],
      "execution_count": 45,
      "outputs": [
        {
          "output_type": "execute_result",
          "data": {
            "text/plain": [
              "False    241\n",
              "True      91\n",
              "NaN        8\n",
              "Name: dissatisfied, dtype: int64"
            ]
          },
          "metadata": {
            "tags": []
          },
          "execution_count": 45
        }
      ]
    },
    {
      "cell_type": "code",
      "metadata": {
        "id": "-dlD1xqG5VVH"
      },
      "source": [
        "# Applying `update_vals` function to selected columns in DETE dataframe \r\n",
        "\r\n",
        "cols = ['job_dissatisfaction',\r\n",
        "        'dissatisfaction_with_the_department',\r\n",
        "        'physical_work_environment',\r\n",
        "        'lack_of_recognition',\r\n",
        "        'lack_of_job_security',\r\n",
        "        'work_location',\r\n",
        "        'employment_conditions',\r\n",
        "        'work_life_balance',\r\n",
        "        'workload']\r\n",
        "\r\n",
        "# Passing a fucntion to all values and creating a new column\r\n",
        "dete_resignations['dissatisfied'] = dete_resignations[cols].any(axis=1, skipna=False)\r\n",
        " \r\n",
        "# Creating a copy of the result\r\n",
        "dete_resignations_up = dete_resignations.copy()"
      ],
      "execution_count": 46,
      "outputs": []
    },
    {
      "cell_type": "code",
      "metadata": {
        "colab": {
          "base_uri": "https://localhost:8080/"
        },
        "id": "H9rygfNS5VpC",
        "outputId": "12dd039b-961b-4749-eca4-b571f20be9d8"
      },
      "source": [
        "dete_resignations['dissatisfied'].value_counts(dropna=False)"
      ],
      "execution_count": 47,
      "outputs": [
        {
          "output_type": "execute_result",
          "data": {
            "text/plain": [
              "False    162\n",
              "True     149\n",
              "Name: dissatisfied, dtype: int64"
            ]
          },
          "metadata": {
            "tags": []
          },
          "execution_count": 47
        }
      ]
    },
    {
      "cell_type": "markdown",
      "metadata": {
        "id": "cS0hbTX45zu0"
      },
      "source": [
        "## Combining the Data\r\n",
        "First, let's add a column to each dataframe that will allow us to easily distinguish between the two:"
      ]
    },
    {
      "cell_type": "code",
      "metadata": {
        "id": "TW1uxB_T5iH8"
      },
      "source": [
        "# Creating new Columns\r\n",
        "dete_resignations_up['institute'] = 'DETE'\r\n",
        "tafe_resignations_up['institute'] = 'TAFE'"
      ],
      "execution_count": 48,
      "outputs": []
    },
    {
      "cell_type": "markdown",
      "metadata": {
        "id": "UVFOANb95-FL"
      },
      "source": [
        "## Combining the dataframes:\r\n",
        "\r\n",
        "We will combine the dataframes with pd.concat() function because our end goal is to aggregate the data according to the institute_service column. We will use inner join, and axis=0 to make it easier for us to aggregate the data."
      ]
    },
    {
      "cell_type": "code",
      "metadata": {
        "id": "WCU1YkMZ5iL8",
        "colab": {
          "base_uri": "https://localhost:8080/",
          "height": 195
        },
        "outputId": "b5af3829-7474-4546-db49-36dc8b1b24f9"
      },
      "source": [
        "# Combining the datasets\r\n",
        "combined = pd.concat([dete_resignations_up, tafe_resignations_up], ignore_index=True, join='inner')\r\n",
        "combined.head()"
      ],
      "execution_count": 51,
      "outputs": [
        {
          "output_type": "execute_result",
          "data": {
            "text/html": [
              "<div>\n",
              "<style scoped>\n",
              "    .dataframe tbody tr th:only-of-type {\n",
              "        vertical-align: middle;\n",
              "    }\n",
              "\n",
              "    .dataframe tbody tr th {\n",
              "        vertical-align: top;\n",
              "    }\n",
              "\n",
              "    .dataframe thead th {\n",
              "        text-align: right;\n",
              "    }\n",
              "</style>\n",
              "<table border=\"1\" class=\"dataframe\">\n",
              "  <thead>\n",
              "    <tr style=\"text-align: right;\">\n",
              "      <th></th>\n",
              "      <th>id</th>\n",
              "      <th>separationtype</th>\n",
              "      <th>cease_date</th>\n",
              "      <th>institute_service</th>\n",
              "      <th>dissatisfied</th>\n",
              "      <th>institute</th>\n",
              "    </tr>\n",
              "  </thead>\n",
              "  <tbody>\n",
              "    <tr>\n",
              "      <th>0</th>\n",
              "      <td>4</td>\n",
              "      <td>Resignation</td>\n",
              "      <td>2012.0</td>\n",
              "      <td>7</td>\n",
              "      <td>False</td>\n",
              "      <td>DETE</td>\n",
              "    </tr>\n",
              "    <tr>\n",
              "      <th>1</th>\n",
              "      <td>6</td>\n",
              "      <td>Resignation</td>\n",
              "      <td>2012.0</td>\n",
              "      <td>18</td>\n",
              "      <td>True</td>\n",
              "      <td>DETE</td>\n",
              "    </tr>\n",
              "    <tr>\n",
              "      <th>2</th>\n",
              "      <td>9</td>\n",
              "      <td>Resignation</td>\n",
              "      <td>2012.0</td>\n",
              "      <td>3</td>\n",
              "      <td>False</td>\n",
              "      <td>DETE</td>\n",
              "    </tr>\n",
              "    <tr>\n",
              "      <th>3</th>\n",
              "      <td>10</td>\n",
              "      <td>Resignation</td>\n",
              "      <td>2012.0</td>\n",
              "      <td>15</td>\n",
              "      <td>True</td>\n",
              "      <td>DETE</td>\n",
              "    </tr>\n",
              "    <tr>\n",
              "      <th>4</th>\n",
              "      <td>12</td>\n",
              "      <td>Resignation</td>\n",
              "      <td>2012.0</td>\n",
              "      <td>3</td>\n",
              "      <td>False</td>\n",
              "      <td>DETE</td>\n",
              "    </tr>\n",
              "  </tbody>\n",
              "</table>\n",
              "</div>"
            ],
            "text/plain": [
              "   id separationtype  cease_date institute_service dissatisfied institute\n",
              "0   4    Resignation      2012.0                 7        False      DETE\n",
              "1   6    Resignation      2012.0                18         True      DETE\n",
              "2   9    Resignation      2012.0                 3        False      DETE\n",
              "3  10    Resignation      2012.0                15         True      DETE\n",
              "4  12    Resignation      2012.0                 3        False      DETE"
            ]
          },
          "metadata": {
            "tags": []
          },
          "execution_count": 51
        }
      ]
    },
    {
      "cell_type": "markdown",
      "metadata": {
        "id": "cwv6NnDq1Ypa"
      },
      "source": [
        "## Cleaning the Service Column\r\n",
        "This column is tricky to clean because it currently contains values in a couple different forms:"
      ]
    },
    {
      "cell_type": "code",
      "metadata": {
        "colab": {
          "base_uri": "https://localhost:8080/"
        },
        "id": "kyMRFut51crZ",
        "outputId": "b907ce73-b46d-4556-9924-0f893a893ea1"
      },
      "source": [
        "combined['institute_service'].value_counts()"
      ],
      "execution_count": 50,
      "outputs": [
        {
          "output_type": "execute_result",
          "data": {
            "text/plain": [
              "Less than 1 year      73\n",
              "1-2                   64\n",
              "3-4                   63\n",
              "5-6                   33\n",
              "11-20                 26\n",
              "5.0                   23\n",
              "1.0                   22\n",
              "7-10                  21\n",
              "3.0                   20\n",
              "0.0                   20\n",
              "6.0                   17\n",
              "4.0                   16\n",
              "9.0                   14\n",
              "2.0                   14\n",
              "7.0                   13\n",
              "More than 20 years    10\n",
              "13.0                   8\n",
              "8.0                    8\n",
              "20.0                   7\n",
              "15.0                   7\n",
              "14.0                   6\n",
              "17.0                   6\n",
              "12.0                   6\n",
              "10.0                   6\n",
              "22.0                   6\n",
              "18.0                   5\n",
              "16.0                   5\n",
              "24.0                   4\n",
              "23.0                   4\n",
              "11.0                   4\n",
              "39.0                   3\n",
              "19.0                   3\n",
              "21.0                   3\n",
              "32.0                   3\n",
              "36.0                   2\n",
              "25.0                   2\n",
              "26.0                   2\n",
              "28.0                   2\n",
              "30.0                   2\n",
              "42.0                   1\n",
              "35.0                   1\n",
              "49.0                   1\n",
              "34.0                   1\n",
              "38.0                   1\n",
              "33.0                   1\n",
              "29.0                   1\n",
              "27.0                   1\n",
              "41.0                   1\n",
              "31.0                   1\n",
              "Name: institute_service, dtype: int64"
            ]
          },
          "metadata": {
            "tags": []
          },
          "execution_count": 50
        }
      ]
    },
    {
      "cell_type": "markdown",
      "metadata": {
        "id": "bx3SGW711tz_"
      },
      "source": [
        "To analyze the data, we'll convert these numbers into categories:\r\n",
        "\r\n",
        "* New: Less than 3 years at a company\r\n",
        "* Experienced: 3-6 years at a company\r\n",
        "* Established: 7-10 years at a company\r\n",
        "* Veteran: 11 or more years at a company\r\n",
        "\r\n",
        "Let's categorize the values in the institute_service column using the definitions above."
      ]
    },
    {
      "cell_type": "code",
      "metadata": {
        "colab": {
          "base_uri": "https://localhost:8080/"
        },
        "id": "uXcoKqwK146U",
        "outputId": "29a63224-9c9b-4329-c65c-75c7414dddae"
      },
      "source": [
        "# extract service years and convert to float\r\n",
        "combined[\"institute_service_updated\"] = combined[\"institute_service\"].astype('str').str.extract(r'(\\d+)', expand=False)\r\n",
        "combined[\"institute_service_updated\"] = combined[\"institute_service_updated\"].astype('float')\r\n",
        "\r\n",
        "#verify the changes and unique values\r\n",
        "combined[\"institute_service_updated\"].value_counts(dropna=False)"
      ],
      "execution_count": 53,
      "outputs": [
        {
          "output_type": "execute_result",
          "data": {
            "text/plain": [
              "1.0     159\n",
              "NaN      88\n",
              "3.0      83\n",
              "5.0      56\n",
              "7.0      34\n",
              "11.0     30\n",
              "0.0      20\n",
              "20.0     17\n",
              "6.0      17\n",
              "4.0      16\n",
              "9.0      14\n",
              "2.0      14\n",
              "13.0      8\n",
              "8.0       8\n",
              "15.0      7\n",
              "22.0      6\n",
              "10.0      6\n",
              "17.0      6\n",
              "14.0      6\n",
              "12.0      6\n",
              "16.0      5\n",
              "18.0      5\n",
              "24.0      4\n",
              "23.0      4\n",
              "21.0      3\n",
              "39.0      3\n",
              "32.0      3\n",
              "19.0      3\n",
              "36.0      2\n",
              "30.0      2\n",
              "25.0      2\n",
              "26.0      2\n",
              "28.0      2\n",
              "42.0      1\n",
              "29.0      1\n",
              "35.0      1\n",
              "27.0      1\n",
              "41.0      1\n",
              "49.0      1\n",
              "38.0      1\n",
              "34.0      1\n",
              "33.0      1\n",
              "31.0      1\n",
              "Name: institute_service_updated, dtype: int64"
            ]
          },
          "metadata": {
            "tags": []
          },
          "execution_count": 53
        }
      ]
    },
    {
      "cell_type": "markdown",
      "metadata": {
        "id": "YpdqmiRO2Sn0"
      },
      "source": [
        "Next, we'll map each value to one of the career stage definitions above."
      ]
    },
    {
      "cell_type": "code",
      "metadata": {
        "id": "kQQBhXYq149f"
      },
      "source": [
        "# Create a function that maps each year value to one of the career stages \r\n",
        "def career_stage(val):\r\n",
        "    if pd.isnull(val): \r\n",
        "        return np.nan\r\n",
        "    elif val < 3:\r\n",
        "        return 'New'\r\n",
        "    elif val <= 6: \r\n",
        "        return 'Experienced'\r\n",
        "    elif val <= 10: \r\n",
        "        return 'Established'\r\n",
        "    else: \r\n",
        "        return 'Veteran'\r\n",
        "    \r\n",
        "# Applying the function and creating a new column \r\n",
        "combined['service_cat'] = combined['institute_service_updated'].apply(career_stage)"
      ],
      "execution_count": 54,
      "outputs": []
    },
    {
      "cell_type": "code",
      "metadata": {
        "colab": {
          "base_uri": "https://localhost:8080/"
        },
        "id": "pBZrP5PH15BK",
        "outputId": "1b7b4970-fc29-4f69-cf0d-5bbaf10cb7c4"
      },
      "source": [
        "combined['service_cat'].value_counts(dropna=False)"
      ],
      "execution_count": 55,
      "outputs": [
        {
          "output_type": "execute_result",
          "data": {
            "text/plain": [
              "New            193\n",
              "Experienced    172\n",
              "Veteran        136\n",
              "NaN             88\n",
              "Established     62\n",
              "Name: service_cat, dtype: int64"
            ]
          },
          "metadata": {
            "tags": []
          },
          "execution_count": 55
        }
      ]
    },
    {
      "cell_type": "markdown",
      "metadata": {
        "id": "R6MND3cC27Vo"
      },
      "source": [
        "After categorizing the values in the institute_service column into career stages, we know exactly the number of employees who worked for the institutes for a short period of time and those who worked there longer, which would help us answer the question of our analysis and determine if they resigned due to some kind of dissatisfaction.\r\n",
        "\r\n",
        "# Performing Initial analysis"
      ]
    },
    {
      "cell_type": "code",
      "metadata": {
        "colab": {
          "base_uri": "https://localhost:8080/"
        },
        "id": "MQqzx1hR2ut1",
        "outputId": "5e87b3c9-11f5-400c-fd2b-03a8200093d5"
      },
      "source": [
        "combined['dissatisfied'].value_counts(dropna=False)"
      ],
      "execution_count": 56,
      "outputs": [
        {
          "output_type": "execute_result",
          "data": {
            "text/plain": [
              "False    403\n",
              "True     240\n",
              "NaN        8\n",
              "Name: dissatisfied, dtype: int64"
            ]
          },
          "metadata": {
            "tags": []
          },
          "execution_count": 56
        }
      ]
    },
    {
      "cell_type": "code",
      "metadata": {
        "id": "-x-3h0oF2uw0"
      },
      "source": [
        "# Filling in the missing values with the most common value 'False'\r\n",
        "combined['dissatisfied'] = combined['dissatisfied'].fillna(False)"
      ],
      "execution_count": 57,
      "outputs": []
    },
    {
      "cell_type": "code",
      "metadata": {
        "colab": {
          "base_uri": "https://localhost:8080/"
        },
        "id": "NblMNJyz4SBz",
        "outputId": "43b01780-7b31-4787-f0bb-94b9edd9547d"
      },
      "source": [
        "combined['dissatisfied'].value_counts(dropna= False)"
      ],
      "execution_count": 58,
      "outputs": [
        {
          "output_type": "execute_result",
          "data": {
            "text/plain": [
              "False    411\n",
              "True     240\n",
              "Name: dissatisfied, dtype: int64"
            ]
          },
          "metadata": {
            "tags": []
          },
          "execution_count": 58
        }
      ]
    },
    {
      "cell_type": "code",
      "metadata": {
        "colab": {
          "base_uri": "https://localhost:8080/",
          "height": 195
        },
        "id": "00CDlKJj4SFf",
        "outputId": "1de7a8c3-2804-447f-add0-8ba9c267833c"
      },
      "source": [
        "# Creating a pivot table to display dissatisfied employees by service_category\r\n",
        "pv_service_cat_dissatisfied = combined.pivot_table(values='dissatisfied', index='service_cat')\r\n",
        "pv_service_cat_dissatisfied"
      ],
      "execution_count": 59,
      "outputs": [
        {
          "output_type": "execute_result",
          "data": {
            "text/html": [
              "<div>\n",
              "<style scoped>\n",
              "    .dataframe tbody tr th:only-of-type {\n",
              "        vertical-align: middle;\n",
              "    }\n",
              "\n",
              "    .dataframe tbody tr th {\n",
              "        vertical-align: top;\n",
              "    }\n",
              "\n",
              "    .dataframe thead th {\n",
              "        text-align: right;\n",
              "    }\n",
              "</style>\n",
              "<table border=\"1\" class=\"dataframe\">\n",
              "  <thead>\n",
              "    <tr style=\"text-align: right;\">\n",
              "      <th></th>\n",
              "      <th>dissatisfied</th>\n",
              "    </tr>\n",
              "    <tr>\n",
              "      <th>service_cat</th>\n",
              "      <th></th>\n",
              "    </tr>\n",
              "  </thead>\n",
              "  <tbody>\n",
              "    <tr>\n",
              "      <th>Established</th>\n",
              "      <td>0.516129</td>\n",
              "    </tr>\n",
              "    <tr>\n",
              "      <th>Experienced</th>\n",
              "      <td>0.343023</td>\n",
              "    </tr>\n",
              "    <tr>\n",
              "      <th>New</th>\n",
              "      <td>0.295337</td>\n",
              "    </tr>\n",
              "    <tr>\n",
              "      <th>Veteran</th>\n",
              "      <td>0.485294</td>\n",
              "    </tr>\n",
              "  </tbody>\n",
              "</table>\n",
              "</div>"
            ],
            "text/plain": [
              "             dissatisfied\n",
              "service_cat              \n",
              "Established      0.516129\n",
              "Experienced      0.343023\n",
              "New              0.295337\n",
              "Veteran          0.485294"
            ]
          },
          "metadata": {
            "tags": []
          },
          "execution_count": 59
        }
      ]
    },
    {
      "cell_type": "code",
      "metadata": {
        "colab": {
          "base_uri": "https://localhost:8080/",
          "height": 348
        },
        "id": "ssF8KKiN45qe",
        "outputId": "0ad92f37-7730-4bbc-b3c4-7c26274e93af"
      },
      "source": [
        "# Plotting the pivot table on a bar plot\r\n",
        "ax4 = pv_service_cat_dissatisfied.plot(kind='bar', legend=False)\r\n",
        "ax4.set_title('Dissatisfied employees by career stage')\r\n",
        "ax4.set_ylabel('%');"
      ],
      "execution_count": 60,
      "outputs": [
        {
          "output_type": "display_data",
          "data": {
            "image/png": "[encoded data removed]",
            "text/plain": [
              "<Figure size 432x288 with 1 Axes>"
            ]
          },
          "metadata": {
            "tags": []
          }
        }
      ]
    },
    {
      "cell_type": "markdown",
      "metadata": {
        "id": "xK9YcnY-5i0B"
      },
      "source": [
        "Looking at this bar chart, we can make the following observations:\r\n",
        "\r\n",
        "Majority of employees who worked in the institutions for short period of time resigned for reasons other than job dissatisfaction. Only 29.5% quit because they were not satisfied.\r\n",
        "\r\n",
        "Approximately 50% of ex-employees belonging to Established and Veteran categories who worked for the institutions the longest quit because they were not satisfied with their job.\r\n",
        "\r\n",
        "We can also figure out which job positions under those service categories were dissatisfied the most and the least:"
      ]
    },
    {
      "cell_type": "code",
      "metadata": {
        "colab": {
          "base_uri": "https://localhost:8080/"
        },
        "id": "Lmx_k_vi5-hl",
        "outputId": "5f312e9d-e9df-45e4-8643-c63c0df692ee"
      },
      "source": [
        "# Identifying the unique values in `position` column\r\n",
        "dete_resignations[\"position\"].value_counts()"
      ],
      "execution_count": 61,
      "outputs": [
        {
          "output_type": "execute_result",
          "data": {
            "text/plain": [
              "Teacher                                                    129\n",
              "Teacher Aide                                                63\n",
              "Cleaner                                                     39\n",
              "Public Servant                                              30\n",
              "Head of Curriculum/Head of Special Education                10\n",
              "Technical Officer                                            8\n",
              "School Administrative Staff                                  8\n",
              "Schools Officer                                              7\n",
              "School Based Professional Staff (Therapist, nurse, etc)      5\n",
              "Other                                                        3\n",
              "Guidance Officer                                             3\n",
              "Professional Officer                                         2\n",
              "Business Service Manager                                     1\n",
              "Name: position, dtype: int64"
            ]
          },
          "metadata": {
            "tags": []
          },
          "execution_count": 61
        }
      ]
    },
    {
      "cell_type": "code",
      "metadata": {
        "colab": {
          "base_uri": "https://localhost:8080/",
          "height": 462
        },
        "id": "tLlltlAl8aJT",
        "outputId": "34bfa75c-b7fa-44d5-87d3-264b8b143dda"
      },
      "source": [
        "# Generating pivot table to represent dissatisfied employees by position held\r\n",
        "pv_position_dissatisfied = dete_resignations.pivot_table(values='dissatisfied', index='position')\r\n",
        "pv_position_dissatisfied = pv_position_dissatisfied.reindex(pv_position_dissatisfied['dissatisfied'].sort_values(ascending=False).index)\r\n",
        "pv_position_dissatisfied"
      ],
      "execution_count": 62,
      "outputs": [
        {
          "output_type": "execute_result",
          "data": {
            "text/html": [
              "<div>\n",
              "<style scoped>\n",
              "    .dataframe tbody tr th:only-of-type {\n",
              "        vertical-align: middle;\n",
              "    }\n",
              "\n",
              "    .dataframe tbody tr th {\n",
              "        vertical-align: top;\n",
              "    }\n",
              "\n",
              "    .dataframe thead th {\n",
              "        text-align: right;\n",
              "    }\n",
              "</style>\n",
              "<table border=\"1\" class=\"dataframe\">\n",
              "  <thead>\n",
              "    <tr style=\"text-align: right;\">\n",
              "      <th></th>\n",
              "      <th>dissatisfied</th>\n",
              "    </tr>\n",
              "    <tr>\n",
              "      <th>position</th>\n",
              "      <th></th>\n",
              "    </tr>\n",
              "  </thead>\n",
              "  <tbody>\n",
              "    <tr>\n",
              "      <th>Guidance Officer</th>\n",
              "      <td>1.000000</td>\n",
              "    </tr>\n",
              "    <tr>\n",
              "      <th>Other</th>\n",
              "      <td>0.666667</td>\n",
              "    </tr>\n",
              "    <tr>\n",
              "      <th>Public Servant</th>\n",
              "      <td>0.600000</td>\n",
              "    </tr>\n",
              "    <tr>\n",
              "      <th>Teacher</th>\n",
              "      <td>0.527132</td>\n",
              "    </tr>\n",
              "    <tr>\n",
              "      <th>Head of Curriculum/Head of Special Education</th>\n",
              "      <td>0.500000</td>\n",
              "    </tr>\n",
              "    <tr>\n",
              "      <th>Cleaner</th>\n",
              "      <td>0.487179</td>\n",
              "    </tr>\n",
              "    <tr>\n",
              "      <th>Schools Officer</th>\n",
              "      <td>0.428571</td>\n",
              "    </tr>\n",
              "    <tr>\n",
              "      <th>School Administrative Staff</th>\n",
              "      <td>0.375000</td>\n",
              "    </tr>\n",
              "    <tr>\n",
              "      <th>Teacher Aide</th>\n",
              "      <td>0.365079</td>\n",
              "    </tr>\n",
              "    <tr>\n",
              "      <th>Technical Officer</th>\n",
              "      <td>0.250000</td>\n",
              "    </tr>\n",
              "    <tr>\n",
              "      <th>School Based Professional Staff (Therapist, nurse, etc)</th>\n",
              "      <td>0.200000</td>\n",
              "    </tr>\n",
              "    <tr>\n",
              "      <th>Professional Officer</th>\n",
              "      <td>0.000000</td>\n",
              "    </tr>\n",
              "    <tr>\n",
              "      <th>Business Service Manager</th>\n",
              "      <td>0.000000</td>\n",
              "    </tr>\n",
              "  </tbody>\n",
              "</table>\n",
              "</div>"
            ],
            "text/plain": [
              "                                                    dissatisfied\n",
              "position                                                        \n",
              "Guidance Officer                                        1.000000\n",
              "Other                                                   0.666667\n",
              "Public Servant                                          0.600000\n",
              "Teacher                                                 0.527132\n",
              "Head of Curriculum/Head of Special Education            0.500000\n",
              "Cleaner                                                 0.487179\n",
              "Schools Officer                                         0.428571\n",
              "School Administrative Staff                             0.375000\n",
              "Teacher Aide                                            0.365079\n",
              "Technical Officer                                       0.250000\n",
              "School Based Professional Staff (Therapist, nur...      0.200000\n",
              "Professional Officer                                    0.000000\n",
              "Business Service Manager                                0.000000"
            ]
          },
          "metadata": {
            "tags": []
          },
          "execution_count": 62
        }
      ]
    },
    {
      "cell_type": "code",
      "metadata": {
        "colab": {
          "base_uri": "https://localhost:8080/",
          "height": 295
        },
        "id": "ePwxg-Vg45yS",
        "outputId": "c1ce5fa7-eec9-420c-9ae5-d540f9082682"
      },
      "source": [
        "# Plotting the results on a horizontal bar plot\r\n",
        "ax5 = pv_position_dissatisfied.plot(kind='barh', legend=False)\r\n",
        "ax5.set_title('Dissatisfied employees by position')\r\n",
        "ax5.set_xlabel('%');"
      ],
      "execution_count": 63,
      "outputs": [
        {
          "output_type": "display_data",
          "data": {
            "image/png": "[encoded data removed]",
            "text/plain": [
              "<Figure size 432x288 with 1 Axes>"
            ]
          },
          "metadata": {
            "tags": []
          }
        }
      ]
    },
    {
      "cell_type": "markdown",
      "metadata": {
        "id": "bWEhqbgW825N"
      },
      "source": [
        "Employees who held the Guidance Officer position resigned because they were all dissatified with their job, whereas employees with Workplace Training Officer, Business Service Manager, Professional Officer and Tutor positions were completely satisfied.\r\n",
        "\r\n",
        "## Further Analysis\r\n",
        "### Cleaning the Age Column\r\n",
        "First step is to clean the age column and standardize the format.\r\n",
        "\r\n"
      ]
    },
    {
      "cell_type": "code",
      "metadata": {
        "colab": {
          "base_uri": "https://localhost:8080/"
        },
        "id": "mGQ0LbwV451X",
        "outputId": "81fca261-aab3-4dce-fa68-53105bd430f0"
      },
      "source": [
        "# Identifying the unique `age` values\r\n",
        "dete_resignations['age'].value_counts(dropna=False).sort_index(ascending=True)"
      ],
      "execution_count": 64,
      "outputs": [
        {
          "output_type": "execute_result",
          "data": {
            "text/plain": [
              "20 or younger     1\n",
              "21-25            29\n",
              "26-30            35\n",
              "31-35            29\n",
              "36-40            41\n",
              "41-45            48\n",
              "46-50            42\n",
              "51-55            32\n",
              "56-60            26\n",
              "61 or older      23\n",
              "NaN               5\n",
              "Name: age, dtype: int64"
            ]
          },
          "metadata": {
            "tags": []
          },
          "execution_count": 64
        }
      ]
    },
    {
      "cell_type": "markdown",
      "metadata": {
        "id": "A8QH0YLE9g1m"
      },
      "source": [
        "Now that we know all unique values, we can modify the values by changing the astype to str and use vectorized operations to change the strings.\r\n",
        "\r\n",
        "After, we will divide the ages into the following age groups:\r\n",
        "\r\n",
        "* 20s [20 or younger-25]\r\n",
        "* 30s [26-35]\r\n",
        "* 40s [36-45]\r\n",
        "* 50s [46-55]\r\n",
        "* 60s [56 or older]\r\n",
        "\r\n",
        "To accomplish that, we will write a function age_group, and pass this function to the entire age column using apply() method.\r\n",
        "\r\n",
        "We will split all strings and keep only the first number since the range of values fall into the same age category. For example, the values in range 21-25 fall into 20s category, the values in range 51-55 fall into 50s category and so on."
      ]
    },
    {
      "cell_type": "code",
      "metadata": {
        "id": "zGRqBC4L5iQW",
        "colab": {
          "base_uri": "https://localhost:8080/"
        },
        "outputId": "c88f424c-12aa-410f-9cd5-1242fff77c81"
      },
      "source": [
        "# Formatting object type to a str and using vectorized operations \r\n",
        "dete_resignations['age'] = dete_resignations['age'].astype(str).str.split('or').str.get(0).str.split('-').str.get(0).str.split(' ').str.get(0)\r\n",
        "\r\n",
        "# Changing object type back to float\r\n",
        "dete_resignations['age'] = dete_resignations['age'].astype(float)\r\n",
        "\r\n",
        "dete_resignations['age'].value_counts(dropna=False).sort_index(ascending=True)"
      ],
      "execution_count": 65,
      "outputs": [
        {
          "output_type": "execute_result",
          "data": {
            "text/plain": [
              "20.0     1\n",
              "21.0    29\n",
              "26.0    35\n",
              "31.0    29\n",
              "36.0    41\n",
              "41.0    48\n",
              "46.0    42\n",
              "51.0    32\n",
              "56.0    26\n",
              "61.0    23\n",
              "NaN      5\n",
              "Name: age, dtype: int64"
            ]
          },
          "metadata": {
            "tags": []
          },
          "execution_count": 65
        }
      ]
    },
    {
      "cell_type": "code",
      "metadata": {
        "id": "WmzffQBD-RSP"
      },
      "source": [
        "# Creating a new function to group `age` column\r\n",
        "def age_group(val): \r\n",
        "    if pd.isnull(val):\r\n",
        "        return np.nan\r\n",
        "    elif val <= 25: \r\n",
        "        return '20s'\r\n",
        "    elif val <= 35:\r\n",
        "        return '30s'\r\n",
        "    elif val <= 45:\r\n",
        "        return '40s'\r\n",
        "    elif val <= 55: \r\n",
        "        return '50s'\r\n",
        "    elif val <= 65: \r\n",
        "        return '60s'"
      ],
      "execution_count": 66,
      "outputs": []
    },
    {
      "cell_type": "code",
      "metadata": {
        "colab": {
          "base_uri": "https://localhost:8080/"
        },
        "id": "he0NMt3S-RVc",
        "outputId": "7c229ef1-0b57-4d8d-f014-671625146762"
      },
      "source": [
        "# Creating a new column and passing a function to all values in `age_groups`\r\n",
        "combined['age_groups'] = dete_resignations['age'].apply(age_group)\r\n",
        "combined['age_groups'].value_counts(dropna=False)"
      ],
      "execution_count": 67,
      "outputs": [
        {
          "output_type": "execute_result",
          "data": {
            "text/plain": [
              "NaN    413\n",
              "40s     67\n",
              "30s     55\n",
              "50s     55\n",
              "60s     39\n",
              "20s     22\n",
              "Name: age_groups, dtype: int64"
            ]
          },
          "metadata": {
            "tags": []
          },
          "execution_count": 67
        }
      ]
    },
    {
      "cell_type": "code",
      "metadata": {
        "colab": {
          "base_uri": "https://localhost:8080/"
        },
        "id": "Yetuu1PX-RYU",
        "outputId": "467bca63-abc6-4a62-ef63-11bd9dd73a5c"
      },
      "source": [
        "# Filling in the missing values with the most common value\r\n",
        "combined['age_groups'] = combined['age_groups'].fillna('40s')\r\n",
        "combined['age_groups'].value_counts(dropna=False)"
      ],
      "execution_count": 68,
      "outputs": [
        {
          "output_type": "execute_result",
          "data": {
            "text/plain": [
              "40s    480\n",
              "30s     55\n",
              "50s     55\n",
              "60s     39\n",
              "20s     22\n",
              "Name: age_groups, dtype: int64"
            ]
          },
          "metadata": {
            "tags": []
          },
          "execution_count": 68
        }
      ]
    },
    {
      "cell_type": "markdown",
      "metadata": {
        "id": "jQ8JVw47_6fO"
      },
      "source": [
        "## Dissatisfaction by Age\r\n",
        "Now that we know how many people are in each age group, we will create a pivot table, where values - dissatisfied column, and index - age_groups column. Then, we will plot the pivot table."
      ]
    },
    {
      "cell_type": "code",
      "metadata": {
        "colab": {
          "base_uri": "https://localhost:8080/",
          "height": 225
        },
        "id": "ArcxOcOq_NhO",
        "outputId": "c2c6301b-6bba-4565-d19b-38c8119231ef"
      },
      "source": [
        "# Generating a PV to represent dissatisfied employees by age \r\n",
        "pv_age_dissatisfied = combined.pivot_table(values='dissatisfied', index='age_groups')\r\n",
        "pv_age_dissatisfied"
      ],
      "execution_count": 69,
      "outputs": [
        {
          "output_type": "execute_result",
          "data": {
            "text/html": [
              "<div>\n",
              "<style scoped>\n",
              "    .dataframe tbody tr th:only-of-type {\n",
              "        vertical-align: middle;\n",
              "    }\n",
              "\n",
              "    .dataframe tbody tr th {\n",
              "        vertical-align: top;\n",
              "    }\n",
              "\n",
              "    .dataframe thead th {\n",
              "        text-align: right;\n",
              "    }\n",
              "</style>\n",
              "<table border=\"1\" class=\"dataframe\">\n",
              "  <thead>\n",
              "    <tr style=\"text-align: right;\">\n",
              "      <th></th>\n",
              "      <th>dissatisfied</th>\n",
              "    </tr>\n",
              "    <tr>\n",
              "      <th>age_groups</th>\n",
              "      <th></th>\n",
              "    </tr>\n",
              "  </thead>\n",
              "  <tbody>\n",
              "    <tr>\n",
              "      <th>20s</th>\n",
              "      <td>0.363636</td>\n",
              "    </tr>\n",
              "    <tr>\n",
              "      <th>30s</th>\n",
              "      <td>0.236364</td>\n",
              "    </tr>\n",
              "    <tr>\n",
              "      <th>40s</th>\n",
              "      <td>0.381250</td>\n",
              "    </tr>\n",
              "    <tr>\n",
              "      <th>50s</th>\n",
              "      <td>0.418182</td>\n",
              "    </tr>\n",
              "    <tr>\n",
              "      <th>60s</th>\n",
              "      <td>0.333333</td>\n",
              "    </tr>\n",
              "  </tbody>\n",
              "</table>\n",
              "</div>"
            ],
            "text/plain": [
              "            dissatisfied\n",
              "age_groups              \n",
              "20s             0.363636\n",
              "30s             0.236364\n",
              "40s             0.381250\n",
              "50s             0.418182\n",
              "60s             0.333333"
            ]
          },
          "metadata": {
            "tags": []
          },
          "execution_count": 69
        }
      ]
    },
    {
      "cell_type": "code",
      "metadata": {
        "colab": {
          "base_uri": "https://localhost:8080/",
          "height": 303
        },
        "id": "BdQzRIw9AF2C",
        "outputId": "7275e2ef-f614-4c29-aed0-b6da53691da4"
      },
      "source": [
        "# Plotting the PV\r\n",
        "ax5 = pv_age_dissatisfied.plot(kind='bar', legend=False)\r\n",
        "ax5.set_title('Dissatisfied employees by age')\r\n",
        "ax5.set_ylabel('%');"
      ],
      "execution_count": 70,
      "outputs": [
        {
          "output_type": "display_data",
          "data": {
            "image/png": "[encoded data removed]",
            "text/plain": [
              "<Figure size 432x288 with 1 Axes>"
            ]
          },
          "metadata": {
            "tags": []
          }
        }
      ]
    },
    {
      "cell_type": "markdown",
      "metadata": {
        "id": "EBvoZyesAUKK"
      },
      "source": [
        "Looking at this bar chart, we can see that only about 29% of younger employees who were in their 20s resinged due to some kind of dissatisfaction. Whereas the number of people in their 30s, 50s, and 60s who were dissatisfied with their job is somewhat similar and account for 40%, 40%, and 42% respectively."
      ]
    },
    {
      "cell_type": "markdown",
      "metadata": {
        "id": "iGKKKZLiAaTi"
      },
      "source": [
        "## TAFE & DETE separate analyses\r\n",
        "* First step is to extract dissatisfied employees in each of the institutes.\r\n",
        "* Then, create a pivot table representing dissatisfied employees in both DETE and TAFE.\r\n",
        "* Last step, to plot the results."
      ]
    },
    {
      "cell_type": "code",
      "metadata": {
        "colab": {
          "base_uri": "https://localhost:8080/"
        },
        "id": "5c_bIE_bAGJD",
        "outputId": "853e9bba-5b48-48ab-e560-16c1e6dbc624"
      },
      "source": [
        "# Separating the DETE from `combined`\r\n",
        "dete_only = combined[combined['institute'] == \"DETE\"]\r\n",
        "\r\n",
        "# Checking the unique values in a `dissatisfied` column\r\n",
        "dete_only['dissatisfied'].value_counts(dropna=False)"
      ],
      "execution_count": 71,
      "outputs": [
        {
          "output_type": "execute_result",
          "data": {
            "text/plain": [
              "False    162\n",
              "True     149\n",
              "Name: dissatisfied, dtype: int64"
            ]
          },
          "metadata": {
            "tags": []
          },
          "execution_count": 71
        }
      ]
    },
    {
      "cell_type": "code",
      "metadata": {
        "colab": {
          "base_uri": "https://localhost:8080/"
        },
        "id": "vGTSAKMCAqPu",
        "outputId": "f2b5385a-0712-4269-d01e-9e5b9cd0228b"
      },
      "source": [
        "# Separating the TAFE from `combined`\r\n",
        "tafe_only = combined[combined['institute'] == \"TAFE\"] \r\n",
        "\r\n",
        "# Checking the unique values in a `dissatisfied` column\r\n",
        "tafe_only['dissatisfied'].value_counts(dropna=False)"
      ],
      "execution_count": 72,
      "outputs": [
        {
          "output_type": "execute_result",
          "data": {
            "text/plain": [
              "False    249\n",
              "True      91\n",
              "Name: dissatisfied, dtype: int64"
            ]
          },
          "metadata": {
            "tags": []
          },
          "execution_count": 72
        }
      ]
    },
    {
      "cell_type": "code",
      "metadata": {
        "colab": {
          "base_uri": "https://localhost:8080/",
          "height": 136
        },
        "id": "y_fGPrvwAqTU",
        "outputId": "0b5bad63-cbe8-4743-9342-1a3d39047175"
      },
      "source": [
        "# Creating a PV for dissatisfied employees from both institutes\r\n",
        "pv_tafe_dete = combined.pivot_table(values='dissatisfied', index='institute')\r\n",
        "pv_tafe_dete"
      ],
      "execution_count": 73,
      "outputs": [
        {
          "output_type": "execute_result",
          "data": {
            "text/html": [
              "<div>\n",
              "<style scoped>\n",
              "    .dataframe tbody tr th:only-of-type {\n",
              "        vertical-align: middle;\n",
              "    }\n",
              "\n",
              "    .dataframe tbody tr th {\n",
              "        vertical-align: top;\n",
              "    }\n",
              "\n",
              "    .dataframe thead th {\n",
              "        text-align: right;\n",
              "    }\n",
              "</style>\n",
              "<table border=\"1\" class=\"dataframe\">\n",
              "  <thead>\n",
              "    <tr style=\"text-align: right;\">\n",
              "      <th></th>\n",
              "      <th>dissatisfied</th>\n",
              "    </tr>\n",
              "    <tr>\n",
              "      <th>institute</th>\n",
              "      <th></th>\n",
              "    </tr>\n",
              "  </thead>\n",
              "  <tbody>\n",
              "    <tr>\n",
              "      <th>DETE</th>\n",
              "      <td>0.479100</td>\n",
              "    </tr>\n",
              "    <tr>\n",
              "      <th>TAFE</th>\n",
              "      <td>0.267647</td>\n",
              "    </tr>\n",
              "  </tbody>\n",
              "</table>\n",
              "</div>"
            ],
            "text/plain": [
              "           dissatisfied\n",
              "institute              \n",
              "DETE           0.479100\n",
              "TAFE           0.267647"
            ]
          },
          "metadata": {
            "tags": []
          },
          "execution_count": 73
        }
      ]
    },
    {
      "cell_type": "code",
      "metadata": {
        "colab": {
          "base_uri": "https://localhost:8080/",
          "height": 312
        },
        "id": "Hx4GoPqNA4Hd",
        "outputId": "7733ce5e-850c-480c-8702-c9fcd2e4bf9d"
      },
      "source": [
        "# Plotting the PV \r\n",
        "ax6 = pv_tafe_dete.plot(kind='bar', legend=False)\r\n",
        "ax6.set_title('Dissatisfied employees by institute')\r\n",
        "ax6.set_ylabel('%');"
      ],
      "execution_count": 74,
      "outputs": [
        {
          "output_type": "display_data",
          "data": {
            "image/png": "[encoded data removed]",
            "text/plain": [
              "<Figure size 432x288 with 1 Axes>"
            ]
          },
          "metadata": {
            "tags": []
          }
        }
      ]
    },
    {
      "cell_type": "markdown",
      "metadata": {
        "id": "l6wrOGuZA_i4"
      },
      "source": [
        "As we can see there were more employees in DETE(47.9%) who were dissatisfied with their job than in TAFE(26.7%).\r\n",
        "\r\n",
        "# Conclusion\r\n",
        "After cleaning the datasets, identifying the missing values, combining the datasets, and performing the initial analysis, we can finally summarize that approximately half of the ex-employees who worked for a long period of time in both DETE and TAFE resigned due to some kind of dissatisfaction. Whereas, the number of employees who worked for a short period of time is lower and accounts for 29.5%.\r\n",
        "\r\n",
        "The number of younger employees(29%) resinging due to dissatisfaction is lower than that of older employees (40%-42%)."
      ]
    },
    {
      "cell_type": "code",
      "metadata": {
        "id": "-zKVKWnTrwH-"
      },
      "source": [
        ""
      ],
      "execution_count": null,
      "outputs": []
    }
  ]
}